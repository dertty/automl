{
 "cells": [
  {
   "cell_type": "markdown",
   "metadata": {},
   "source": [
    "# libs\n",
    "Аналоги:  \n",
    "- https://mlbox.readthedocs.io/en/latest/  \n",
    "- https://lightautoml.readthedocs.io/  \n",
    "- https://automl.github.io/auto-sklearn/master/  \n",
    "\n",
    "Tюнинг:\n",
    "- https://optuna.org/\n",
    "- https://hyperopt.github.io/hyperopt/\n",
    "- https://docs.ray.io/en/latest/tune/index.html \n",
    "- https://oss-vizier.readthedocs.io/en/latest/ \n",
    "\n",
    "Работа с фичами:\n",
    "- https://scikit-learn.org/1.5/modules/feature_selection.html\n",
    "- https://feature-engine.trainindata.com/en/1.7.x/api_doc/selection/index.html\n",
    "- https://github.com/AutoViML/featurewiz\n",
    "- https://github.com/scikit-learn-contrib/boruta_py\n",
    "\n",
    "Прочее:\n",
    "- https://unit8co.github.io/darts/\n",
    "- https://epistasislab.github.io/tpot/  "
   ]
  },
  {
   "cell_type": "markdown",
   "metadata": {},
   "source": [
    "# datasets\n",
    "Сберовский датасет:\n",
    "- https://huggingface.co/datasets/ai-lab/MBD (14,6 GB, основной датасет)\n",
    "- https://huggingface.co/datasets/ai-lab/MBD-mini (3,38 GB, уменьшенная версия, 10% клиентов из основного датасета)  \n",
    "\n",
    "Kaggle datasets:\n",
    "- https://www.kaggle.com/datasets/yasserh/titanic-dataset\n",
    "- https://www.kaggle.com/datasets/rabieelkharoua/predict-liver-disease-1700-records-dataset\n",
    "- https://www.kaggle.com/datasets/devzohaib/eligibility-prediction-for-loan\n",
    "- https://www.kaggle.com/datasets/deepcontractor/smoke-detection-dataset\n",
    "- https://www.kaggle.com/datasets/stealthtechnologies/employee-attrition-dataset\n",
    "- https://www.kaggle.com/datasets/rabieelkharoua/cancer-prediction-dataset\n",
    "- https://www.kaggle.com/datasets/yasserh/heart-disease-dataset\n",
    "- https://www.kaggle.com/datasets/rabieelkharoua/predict-online-course-engagement-dataset\n",
    "- https://www.kaggle.com/datasets/rabieelkharoua/predicting-hiring-decisions-in-recruitment-data\n",
    "- https://www.kaggle.com/datasets/barun2104/telecom-churn\n",
    "- https://www.kaggle.com/datasets/rabieelkharoua/predicting-manufacturing-defects-dataset\n",
    "- https://www.kaggle.com/datasets/rabieelkharoua/predict-customer-purchase-behavior-dataset\n",
    "- https://www.kaggle.com/datasets/teejmahal20/airline-passenger-satisfaction\n",
    "- https://www.kaggle.com/datasets/dhanushnarayananr/credit-card-fraud\n",
    "- https://www.kaggle.com/datasets/rameshmehta/credit-risk-analysis\n",
    "- https://www.kaggle.com/datasets/marcpaulo/titanic-huge-dataset-1m-passengers\n",
    "- https://www.kaggle.com/datasets/manishtripathi86/fedex-data\n",
    "- https://www.kaggle.com/datasets/ban7002/fraud-challenge-data\n",
    "- https://www.kaggle.com/datasets/ulrikthygepedersen/kickstarter-projects\n"
   ]
  },
  {
   "cell_type": "code",
   "execution_count": 1,
   "metadata": {},
   "outputs": [],
   "source": [
    "import numpy as np\n",
    "import pandas as pd\n",
    "import polars as pl\n",
    "\n",
    "import kaggle\n",
    "import time\n",
    "from pathlib import Path\n",
    "\n",
    "kaggle.api.authenticate()"
   ]
  },
  {
   "cell_type": "code",
   "execution_count": 2,
   "metadata": {},
   "outputs": [],
   "source": [
    "datasets = [\n",
    "    {\n",
    "        'link': 'https://www.kaggle.com/datasets/yasserh/titanic-dataset', \n",
    "        'target': 'Survived',\n",
    "        'id_cols': ['PassengerId',],\n",
    "    },\n",
    "    {\n",
    "        'link': 'https://www.kaggle.com/datasets/rabieelkharoua/predict-liver-disease-1700-records-dataset', \n",
    "        'target': 'Diagnosis',\n",
    "    },\n",
    "    {\n",
    "        'link': 'https://www.kaggle.com/datasets/devzohaib/eligibility-prediction-for-loan', \n",
    "        'target': 'Loan_Status',\n",
    "        'id_cols': ['Loan_ID',],\n",
    "    },\n",
    "    {\n",
    "        'link': 'https://www.kaggle.com/datasets/deepcontractor/smoke-detection-dataset', \n",
    "        'target': 'Fire Alarm',\n",
    "        'id_cols': ['index',],\n",
    "    },\n",
    "    {\n",
    "        'link': 'https://www.kaggle.com/datasets/stealthtechnologies/employee-attrition-dataset', \n",
    "        'target': 'Attrition',\n",
    "        'id_cols': ['Employee ID',],\n",
    "    },\n",
    "    {\n",
    "        'link': 'https://www.kaggle.com/datasets/rabieelkharoua/cancer-prediction-dataset', \n",
    "        'target': 'Diagnosis',\n",
    "    },\n",
    "    {\n",
    "        'link': 'https://www.kaggle.com/datasets/yasserh/heart-disease-dataset', \n",
    "        'target': 'target',\n",
    "    },\n",
    "    {\n",
    "        'link': 'https://www.kaggle.com/datasets/rabieelkharoua/predict-online-course-engagement-dataset', \n",
    "        'target': 'CourseCompletion',\n",
    "        'id_cols': ['UserID',],\n",
    "    },\n",
    "    {\n",
    "        'link': 'https://www.kaggle.com/datasets/rabieelkharoua/predicting-hiring-decisions-in-recruitment-data', \n",
    "        'target': 'HiringDecision',\n",
    "    },\n",
    "    {\n",
    "        'link': 'https://www.kaggle.com/datasets/barun2104/telecom-churn', \n",
    "        'target': 'Churn',\n",
    "    },\n",
    "    {\n",
    "        'link': 'https://www.kaggle.com/datasets/rabieelkharoua/predicting-manufacturing-defects-dataset', \n",
    "        'target': 'DefectStatus',\n",
    "    },\n",
    "    {\n",
    "        'link': 'https://www.kaggle.com/datasets/rabieelkharoua/predict-customer-purchase-behavior-dataset',\n",
    "        'target': 'PurchaseStatus',\n",
    "    },\n",
    "    {\n",
    "        'link': 'https://www.kaggle.com/datasets/teejmahal20/airline-passenger-satisfaction', \n",
    "        'target': 'Satisfaction',\n",
    "    },\n",
    "    {\n",
    "        'link': 'https://www.kaggle.com/datasets/dhanushnarayananr/credit-card-fraud', \n",
    "        'target': 'fraud',\n",
    "    },\n",
    "    {\n",
    "        'link': 'https://www.kaggle.com/datasets/rameshmehta/credit-risk-analysis', \n",
    "        'target': 'default_ind',\n",
    "        'id_cols': ['id', 'member_id',],\n",
    "        'time_col': 'issue_d',\n",
    "    },\n",
    "    {\n",
    "        'link': 'https://www.kaggle.com/datasets/marcpaulo/titanic-huge-dataset-1m-passengers', \n",
    "        'target': 'Survived',\n",
    "        'id_cols': ['PassengerId',],\n",
    "    },\n",
    "    # {\n",
    "    #     'link': 'https://www.kaggle.com/datasets/manishtripathi86/fedex-data', \n",
    "    #     'target': 'Delivery_Status',\n",
    "    #     'time_col': 'Year',\n",
    "    # },\n",
    "    {\n",
    "        'link': 'https://www.kaggle.com/datasets/ban7002/fraud-challenge-data', \n",
    "        'target': 'EVENT_LABEL',\n",
    "        'time_col': 'EVENT_TIMESTAMP',\n",
    "    },\n",
    "    # {\n",
    "    #     'link': 'https://www.kaggle.com/datasets/ulrikthygepedersen/kickstarter-projects', \n",
    "    #     'target': 'State',\n",
    "    #     'id_cols': ['ID',],\n",
    "    #     'time_col': 'Launched',\n",
    "    # },\n",
    "]"
   ]
  },
  {
   "cell_type": "code",
   "execution_count": 3,
   "metadata": {},
   "outputs": [],
   "source": [
    "for dataset in datasets:\n",
    "    dataset_name = dataset['link'].replace('https://www.kaggle.com/datasets/', '')\n",
    "    dataset_path = Path(f'./datasets/{dataset_name}')\n",
    "    if not dataset_path.exists():\n",
    "        if len(dataset_path.glob('*.csv')) == 0:\n",
    "            kaggle.api.dataset_download_files(dataset_name, path=dataset_path, unzip=True)"
   ]
  },
  {
   "cell_type": "code",
   "execution_count": 4,
   "metadata": {},
   "outputs": [],
   "source": [
    "def get_train_test_datasets(datasets, datasets_path, test_size=0.3, random_state=0):\n",
    "    from tqdm import tqdm\n",
    "    from pathlib import Path\n",
    "    from sklearn.model_selection import train_test_split\n",
    "    from sklearn.preprocessing import LabelEncoder\n",
    "    \n",
    "    \n",
    "    for dataset in tqdm(datasets):\n",
    "        dataset_name = dataset['link'].replace('https://www.kaggle.com/datasets/', '')\n",
    "        files = list((Path(datasets_path) / dataset_name).glob('*.csv'))\n",
    "        if len(files) == 1:\n",
    "            dataset_path = files[0]\n",
    "            data = pd.read_csv(dataset_path)\n",
    "            target_name = dataset['target']\n",
    "            data = data.dropna(subset=[target_name])\n",
    "            \n",
    "            if dataset.get('id_cols'):\n",
    "                data = data.drop(columns=[dataset['id_cols']], errors='ignore')\n",
    "\n",
    "            le = LabelEncoder()\n",
    "            data[target_name] = le.fit_transform(data[target_name])\n",
    "            data = data.select_dtypes(include=[np.number]).dropna(how='all', axis='columns').fillna(0)\n",
    "            train_data, test_data = train_test_split(\n",
    "                data, \n",
    "                test_size=test_size, \n",
    "                stratify=data[target_name], \n",
    "                random_state=random_state\n",
    "            )\n",
    "            yield train_data, test_data, target_name, dataset_name"
   ]
  },
  {
   "cell_type": "markdown",
   "metadata": {},
   "source": [
    "# Модуль model"
   ]
  },
  {
   "cell_type": "code",
   "execution_count": 5,
   "metadata": {},
   "outputs": [],
   "source": [
    "%load_ext autoreload\n",
    "%autoreload 2"
   ]
  },
  {
   "cell_type": "markdown",
   "metadata": {},
   "source": [
    "## sklearn metrics"
   ]
  },
  {
   "cell_type": "code",
   "execution_count": 18,
   "metadata": {},
   "outputs": [
    {
     "ename": "NameError",
     "evalue": "name 'get_train_test_datasets' is not defined",
     "output_type": "error",
     "traceback": [
      "\u001b[0;31m---------------------------------------------------------------------------\u001b[0m",
      "\u001b[0;31mNameError\u001b[0m                                 Traceback (most recent call last)",
      "Cell \u001b[0;32mIn[18], line 6\u001b[0m\n\u001b[1;32m      2\u001b[0m \u001b[38;5;28;01mfrom\u001b[39;00m\u001b[38;5;250m \u001b[39m\u001b[38;5;21;01msklearn\u001b[39;00m\u001b[38;5;21;01m.\u001b[39;00m\u001b[38;5;21;01mmetrics\u001b[39;00m\u001b[38;5;250m \u001b[39m\u001b[38;5;28;01mimport\u001b[39;00m roc_auc_score\n\u001b[1;32m      5\u001b[0m results \u001b[38;5;241m=\u001b[39m []\n\u001b[0;32m----> 6\u001b[0m \u001b[38;5;28;01mfor\u001b[39;00m train, test, target_name, dataset_name \u001b[38;5;129;01min\u001b[39;00m \u001b[43mget_train_test_datasets\u001b[49m(datasets[:\u001b[38;5;241m1\u001b[39m], datasets_path\u001b[38;5;241m=\u001b[39m\u001b[38;5;124m'\u001b[39m\u001b[38;5;124m./datasets\u001b[39m\u001b[38;5;124m'\u001b[39m, test_size\u001b[38;5;241m=\u001b[39m\u001b[38;5;241m0.3\u001b[39m, random_state\u001b[38;5;241m=\u001b[39m\u001b[38;5;241m0\u001b[39m):\n\u001b[1;32m      7\u001b[0m     train, test \u001b[38;5;241m=\u001b[39m train, test\n\u001b[1;32m      8\u001b[0m     start_time \u001b[38;5;241m=\u001b[39m time\u001b[38;5;241m.\u001b[39mperf_counter()\n",
      "\u001b[0;31mNameError\u001b[0m: name 'get_train_test_datasets' is not defined"
     ]
    }
   ],
   "source": [
    "# from automl import AutoML\n",
    "from sklearn.metrics import roc_auc_score\n",
    "\n",
    "\n",
    "results = []\n",
    "for train, test, target_name, dataset_name in get_train_test_datasets(datasets[:1], datasets_path='./datasets', test_size=0.3, random_state=0):\n",
    "    train, test = train, test\n",
    "    start_time = time.perf_counter()\n",
    "    automl = AutoML(\n",
    "        task='classification',\n",
    "        use_preprocessing_pipeline=True,\n",
    "        preprocessing_pipeline_kwargs={},\n",
    "        feature_selector_type=None,\n",
    "        use_val_test_pipeline=False,\n",
    "        auto_models_init_kwargs = {\n",
    "            \"metric\": \"roc_auc\",\n",
    "            \"time_series\": False,\n",
    "            \"models_list\": [\"boostings\"],\n",
    "            \"blend\": True,\n",
    "            \"stack\": True\n",
    "        },\n",
    "        n_jobs=12, \n",
    "        random_state=0,\n",
    "        )\n",
    "    automl = automl.fit(\n",
    "        train.drop(columns=[target_name,]), train[target_name].to_numpy(), \n",
    "        test.drop(columns=[target_name,]), test[target_name].to_numpy(),\n",
    "        auto_model_fit_kwargs = {\n",
    "            \"tuning_timeout\": 10\n",
    "        }\n",
    "    )\n",
    "    train_time = time.perf_counter() - start_time\n",
    "    \n",
    "    test_predictions = automl.predict(test.drop(columns=[target_name,]))\n",
    "    predict_time = time.perf_counter() - start_time - train_time\n",
    "    all_time = train_time + predict_time\n",
    "    \n",
    "    test_score = roc_auc_score(test[target_name], test_predictions[:, 1])\n",
    "    results.append((dataset_name, test_score))"
   ]
  },
  {
   "cell_type": "code",
   "execution_count": 7,
   "metadata": {},
   "outputs": [
    {
     "data": {
      "application/vnd.jupyter.widget-view+json": {
       "model_id": "57f71166ab1547e5ab886cd200a1ad58",
       "version_major": 2,
       "version_minor": 0
      },
      "text/plain": [
       "MetricVisualizer(layout=Layout(align_self='stretch', height='500px'))"
      ]
     },
     "metadata": {},
     "output_type": "display_data"
    },
    {
     "name": "stdout",
     "output_type": "stream",
     "text": [
      "Step #1 out of 1\n",
      "Stopped by overfitting detector  (10 iterations wait)\n",
      "\n",
      "bestTest = 0.3121021326\n",
      "bestIteration = 22\n",
      "\n",
      "Shrink model to first 23 iterations.\n",
      "Feature #20 eliminated\n",
      "Feature #62 eliminated\n",
      "Feature #53 eliminated\n",
      "Feature #40 eliminated\n",
      "Feature #75 eliminated\n",
      "Feature #8 eliminated\n",
      "Feature #44 eliminated\n",
      "Feature #14 eliminated\n",
      "Feature #9 eliminated\n",
      "Feature #28 eliminated\n",
      "Feature #99 eliminated\n",
      "Feature #59 eliminated\n",
      "Feature #33 eliminated\n",
      "Feature #80 eliminated\n",
      "Feature #43 eliminated\n",
      "Feature #98 eliminated\n",
      "Feature #70 eliminated\n",
      "Feature #32 eliminated\n",
      "Feature #87 eliminated\n",
      "Feature #36 eliminated\n",
      "Feature #76 eliminated\n",
      "Feature #23 eliminated\n",
      "Feature #51 eliminated\n",
      "Feature #57 eliminated\n",
      "Feature #71 eliminated\n",
      "Feature #29 eliminated\n",
      "Feature #42 eliminated\n",
      "Feature #26 eliminated\n",
      "Feature #96 eliminated\n",
      "Feature #18 eliminated\n",
      "Feature #49 eliminated\n",
      "Feature #15 eliminated\n",
      "Feature #2 eliminated\n",
      "Feature #5 eliminated\n",
      "Feature #6 eliminated\n",
      "Feature #7 eliminated\n",
      "Feature #19 eliminated\n",
      "Feature #21 eliminated\n",
      "Feature #24 eliminated\n",
      "Feature #31 eliminated\n",
      "Feature #34 eliminated\n",
      "Feature #41 eliminated\n",
      "Feature #46 eliminated\n",
      "Feature #48 eliminated\n",
      "Feature #50 eliminated\n",
      "Feature #52 eliminated\n",
      "Feature #54 eliminated\n",
      "Feature #55 eliminated\n",
      "Feature #56 eliminated\n",
      "Feature #63 eliminated\n",
      "Feature #64 eliminated\n",
      "Feature #65 eliminated\n",
      "Feature #67 eliminated\n",
      "Feature #68 eliminated\n",
      "Feature #69 eliminated\n",
      "Feature #72 eliminated\n",
      "Feature #73 eliminated\n",
      "Feature #78 eliminated\n",
      "Feature #79 eliminated\n",
      "Feature #85 eliminated\n",
      "Feature #90 eliminated\n",
      "Feature #92 eliminated\n",
      "Feature #94 eliminated\n",
      "Feature #95 eliminated\n",
      "Feature #97 eliminated\n",
      "Feature #93 eliminated\n",
      "Feature #27 eliminated\n",
      "Feature #0 eliminated\n",
      "Feature #45 eliminated\n",
      "Feature #1 eliminated\n",
      "Feature #58 eliminated\n",
      "Feature #35 eliminated\n",
      "Feature #86 eliminated\n",
      "Feature #88 eliminated\n",
      "Feature #3 eliminated\n",
      "Feature #89 eliminated\n",
      "Feature #38 eliminated\n",
      "Feature #22 eliminated\n",
      "Feature #11 eliminated\n",
      "Feature #77 eliminated\n",
      "Feature #17 eliminated\n",
      "Feature #13 eliminated\n",
      "Feature #47 eliminated\n",
      "Feature #91 eliminated\n",
      "Feature #25 eliminated\n",
      "Feature #82 eliminated\n",
      "Feature #4 eliminated\n",
      "Feature #39 eliminated\n",
      "Feature #61 eliminated\n",
      "Feature #84 eliminated\n",
      "Feature #12 eliminated\n",
      "Feature #30 eliminated\n",
      "Feature #37 eliminated\n",
      "Feature #83 eliminated\n",
      "Feature #81 eliminated\n",
      "Feature #74 eliminated\n",
      "Feature #10 eliminated\n",
      "Feature #66 eliminated\n",
      "Feature #16 eliminated\n",
      "Train final model\n",
      "Stopped by overfitting detector  (10 iterations wait)\n",
      "\n",
      "bestTest = 0.3385399236\n",
      "bestIteration = 24\n",
      "\n",
      "Shrink model to first 25 iterations.\n"
     ]
    },
    {
     "data": {
      "application/vnd.plotly.v1+json": {
       "config": {
        "plotlyServerURL": "https://plot.ly"
       },
       "data": [
        {
         "line": {
          "color": "rgb(51,160,44)"
         },
         "mode": "lines+markers",
         "name": "",
         "text": [
          "",
          "feature_20",
          "feature_62",
          "feature_53",
          "feature_40",
          "feature_75",
          "feature_8",
          "feature_44",
          "feature_14",
          "feature_9",
          "feature_28",
          "feature_99",
          "feature_59",
          "feature_33",
          "feature_80",
          "feature_43",
          "feature_98",
          "feature_70",
          "feature_32",
          "feature_87",
          "feature_36",
          "feature_76",
          "feature_23",
          "feature_51",
          "feature_57",
          "feature_71",
          "feature_29",
          "feature_42",
          "feature_26",
          "feature_96",
          "feature_18",
          "feature_49",
          "feature_15",
          "feature_2",
          "feature_5",
          "feature_6",
          "feature_7",
          "feature_19",
          "feature_21",
          "feature_24",
          "feature_31",
          "feature_34",
          "feature_41",
          "feature_46",
          "feature_48",
          "feature_50",
          "feature_52",
          "feature_54",
          "feature_55",
          "feature_56",
          "feature_63",
          "feature_64",
          "feature_65",
          "feature_67",
          "feature_68",
          "feature_69",
          "feature_72",
          "feature_73",
          "feature_78",
          "feature_79",
          "feature_85",
          "feature_90",
          "feature_92",
          "feature_94",
          "feature_95",
          "feature_97",
          "feature_93",
          "feature_27",
          "feature_0",
          "feature_45",
          "feature_1",
          "feature_58",
          "feature_35",
          "feature_86",
          "feature_88",
          "feature_3",
          "feature_89",
          "feature_38",
          "feature_22",
          "feature_11",
          "feature_77",
          "feature_17",
          "feature_13",
          "feature_47",
          "feature_91",
          "feature_25",
          "feature_82",
          "feature_4",
          "feature_39",
          "feature_61",
          "feature_84",
          "feature_12",
          "feature_30",
          "feature_37",
          "feature_83",
          "feature_81",
          "feature_74",
          "feature_10",
          "feature_66",
          "feature_16"
         ],
         "type": "scatter",
         "x": [
          0,
          1,
          2,
          3,
          4,
          5,
          6,
          7,
          8,
          9,
          10,
          11,
          12,
          13,
          14,
          15,
          16,
          17,
          18,
          19,
          20,
          21,
          22,
          23,
          24,
          25,
          26,
          27,
          28,
          29,
          30,
          31,
          32,
          33,
          34,
          35,
          36,
          37,
          38,
          39,
          40,
          41,
          42,
          43,
          44,
          45,
          46,
          47,
          48,
          49,
          50,
          51,
          52,
          53,
          54,
          55,
          56,
          57,
          58,
          59,
          60,
          61,
          62,
          63,
          64,
          65,
          66,
          67,
          68,
          69,
          70,
          71,
          72,
          73,
          74,
          75,
          76,
          77,
          78,
          79,
          80,
          81,
          82,
          83,
          84,
          85,
          86,
          87,
          88,
          89,
          90,
          91,
          92,
          93,
          94,
          95,
          96,
          97,
          98,
          99
         ],
         "y": [
          0.31210213258323516,
          0.3115174796226045,
          0.3109390889289112,
          0.3103618764866933,
          0.30992662503518714,
          0.30958212742451263,
          0.30924269930665843,
          0.3089081402303606,
          0.3086118692609296,
          0.308347542241102,
          0.3080979385091825,
          0.3078535770414646,
          0.3076104575394614,
          0.30737078101639864,
          0.3071503049672352,
          0.30694217695568904,
          0.3067409012683829,
          0.30658139045205507,
          0.3064220917861321,
          0.3062646473691209,
          0.3061083382407726,
          0.3059798193214997,
          0.30585620087130533,
          0.3057444528919575,
          0.3056549752167378,
          0.3055745630914504,
          0.30549760076745075,
          0.3054224458621281,
          0.3053864548180369,
          0.30535270467083103,
          0.30533375196549356,
          0.3053175442338631,
          0.3053130970555059,
          0.3053130970555059,
          0.3053130970555059,
          0.3053130970555059,
          0.3053130970555059,
          0.3053130970555059,
          0.3053130970555059,
          0.3053130970555059,
          0.3053130970555059,
          0.3053130970555059,
          0.3053130970555059,
          0.3053130970555059,
          0.3053130970555059,
          0.3053130970555059,
          0.3053130970555059,
          0.3053130970555059,
          0.3053130970555059,
          0.3053130970555059,
          0.3053130970555059,
          0.3053130970555059,
          0.3053130970555059,
          0.3053130970555059,
          0.3053130970555059,
          0.3053130970555059,
          0.3053130970555059,
          0.3053130970555059,
          0.3053130970555059,
          0.3053130970555059,
          0.3053130970555059,
          0.3053130970555059,
          0.3053130970555059,
          0.3053130970555059,
          0.3053130970555059,
          0.3053136629307906,
          0.30531691600446,
          0.3053382690513721,
          0.30536202779462274,
          0.30539475563146573,
          0.30542884561217576,
          0.30547415894966584,
          0.30552893314696217,
          0.3056067635260839,
          0.3056954223752054,
          0.30579468343877647,
          0.30589960294986024,
          0.3060134608944261,
          0.3061445859112338,
          0.3062766151772383,
          0.3064322080818125,
          0.30662325646515326,
          0.30682305303569396,
          0.30707457102269475,
          0.3073395279072376,
          0.30761348947069234,
          0.3079239694073434,
          0.3082539868956898,
          0.3085957638838508,
          0.30896089398371274,
          0.3094096927974373,
          0.3099259989858587,
          0.3104502124169741,
          0.31097418397369614,
          0.31151991054729256,
          0.3121212457355362,
          0.31314238348667844,
          0.3151323117838803,
          0.32048863059533456,
          0.33853992362797897
         ]
        },
        {
         "marker": {
          "size": 10,
          "symbol": "square"
         },
         "mode": "markers",
         "name": "",
         "text": [
          "",
          "feature_16"
         ],
         "type": "scatter",
         "x": [
          0,
          99
         ],
         "y": [
          0.31210213258323516,
          0.33853992362797897
         ]
        },
        {
         "mode": "text",
         "name": "",
         "text": [
          "",
          "20",
          "62",
          "53",
          "40",
          "75",
          "8",
          "44",
          "14",
          "9",
          "28",
          "99",
          "59",
          "33",
          "80",
          "43",
          "98",
          "70",
          "32",
          "87",
          "36",
          "76",
          "23",
          "51",
          "57",
          "71",
          "29",
          "42",
          "26",
          "96",
          "18",
          "49",
          "15",
          "2",
          "5",
          "6",
          "7",
          "19",
          "21",
          "24",
          "31",
          "34",
          "41",
          "46",
          "48",
          "50",
          "52",
          "54",
          "55",
          "56",
          "63",
          "64",
          "65",
          "67",
          "68",
          "69",
          "72",
          "73",
          "78",
          "79",
          "85",
          "90",
          "92",
          "94",
          "95",
          "97",
          "93",
          "27",
          "0",
          "45",
          "1",
          "58",
          "35",
          "86",
          "88",
          "3",
          "89",
          "38",
          "22",
          "11",
          "77",
          "17",
          "13",
          "47",
          "91",
          "25",
          "82",
          "4",
          "39",
          "61",
          "84",
          "12",
          "30",
          "37",
          "83",
          "81",
          "74",
          "10",
          "66",
          "16"
         ],
         "textfont": {
          "color": "rgb(51,160,44)",
          "family": "sans serif",
          "size": 18
         },
         "textposition": "bottom center",
         "type": "scatter",
         "visible": false,
         "x": [
          0,
          1,
          2,
          3,
          4,
          5,
          6,
          7,
          8,
          9,
          10,
          11,
          12,
          13,
          14,
          15,
          16,
          17,
          18,
          19,
          20,
          21,
          22,
          23,
          24,
          25,
          26,
          27,
          28,
          29,
          30,
          31,
          32,
          33,
          34,
          35,
          36,
          37,
          38,
          39,
          40,
          41,
          42,
          43,
          44,
          45,
          46,
          47,
          48,
          49,
          50,
          51,
          52,
          53,
          54,
          55,
          56,
          57,
          58,
          59,
          60,
          61,
          62,
          63,
          64,
          65,
          66,
          67,
          68,
          69,
          70,
          71,
          72,
          73,
          74,
          75,
          76,
          77,
          78,
          79,
          80,
          81,
          82,
          83,
          84,
          85,
          86,
          87,
          88,
          89,
          90,
          91,
          92,
          93,
          94,
          95,
          96,
          97,
          98,
          99
         ],
         "y": [
          0.31210213258323516,
          0.3115174796226045,
          0.3109390889289112,
          0.3103618764866933,
          0.30992662503518714,
          0.30958212742451263,
          0.30924269930665843,
          0.3089081402303606,
          0.3086118692609296,
          0.308347542241102,
          0.3080979385091825,
          0.3078535770414646,
          0.3076104575394614,
          0.30737078101639864,
          0.3071503049672352,
          0.30694217695568904,
          0.3067409012683829,
          0.30658139045205507,
          0.3064220917861321,
          0.3062646473691209,
          0.3061083382407726,
          0.3059798193214997,
          0.30585620087130533,
          0.3057444528919575,
          0.3056549752167378,
          0.3055745630914504,
          0.30549760076745075,
          0.3054224458621281,
          0.3053864548180369,
          0.30535270467083103,
          0.30533375196549356,
          0.3053175442338631,
          0.3053130970555059,
          0.3053130970555059,
          0.3053130970555059,
          0.3053130970555059,
          0.3053130970555059,
          0.3053130970555059,
          0.3053130970555059,
          0.3053130970555059,
          0.3053130970555059,
          0.3053130970555059,
          0.3053130970555059,
          0.3053130970555059,
          0.3053130970555059,
          0.3053130970555059,
          0.3053130970555059,
          0.3053130970555059,
          0.3053130970555059,
          0.3053130970555059,
          0.3053130970555059,
          0.3053130970555059,
          0.3053130970555059,
          0.3053130970555059,
          0.3053130970555059,
          0.3053130970555059,
          0.3053130970555059,
          0.3053130970555059,
          0.3053130970555059,
          0.3053130970555059,
          0.3053130970555059,
          0.3053130970555059,
          0.3053130970555059,
          0.3053130970555059,
          0.3053130970555059,
          0.3053136629307906,
          0.30531691600446,
          0.3053382690513721,
          0.30536202779462274,
          0.30539475563146573,
          0.30542884561217576,
          0.30547415894966584,
          0.30552893314696217,
          0.3056067635260839,
          0.3056954223752054,
          0.30579468343877647,
          0.30589960294986024,
          0.3060134608944261,
          0.3061445859112338,
          0.3062766151772383,
          0.3064322080818125,
          0.30662325646515326,
          0.30682305303569396,
          0.30707457102269475,
          0.3073395279072376,
          0.30761348947069234,
          0.3079239694073434,
          0.3082539868956898,
          0.3085957638838508,
          0.30896089398371274,
          0.3094096927974373,
          0.3099259989858587,
          0.3104502124169741,
          0.31097418397369614,
          0.31151991054729256,
          0.3121212457355362,
          0.31314238348667844,
          0.3151323117838803,
          0.32048863059533456,
          0.33853992362797897
         ]
        },
        {
         "mode": "text",
         "name": "",
         "text": [
          "",
          "feature_20",
          "feature_62",
          "feature_53",
          "feature_40",
          "feature_75",
          "feature_8",
          "feature_44",
          "feature_14",
          "feature_9",
          "feature_28",
          "feature_99",
          "feature_59",
          "feature_33",
          "feature_80",
          "feature_43",
          "feature_98",
          "feature_70",
          "feature_32",
          "feature_87",
          "feature_36",
          "feature_76",
          "feature_23",
          "feature_51",
          "feature_57",
          "feature_71",
          "feature_29",
          "feature_42",
          "feature_26",
          "feature_96",
          "feature_18",
          "feature_49",
          "feature_15",
          "feature_2",
          "feature_5",
          "feature_6",
          "feature_7",
          "feature_19",
          "feature_21",
          "feature_24",
          "feature_31",
          "feature_34",
          "feature_41",
          "feature_46",
          "feature_48",
          "feature_50",
          "feature_52",
          "feature_54",
          "feature_55",
          "feature_56",
          "feature_63",
          "feature_64",
          "feature_65",
          "feature_67",
          "feature_68",
          "feature_69",
          "feature_72",
          "feature_73",
          "feature_78",
          "feature_79",
          "feature_85",
          "feature_90",
          "feature_92",
          "feature_94",
          "feature_95",
          "feature_97",
          "feature_93",
          "feature_27",
          "feature_0",
          "feature_45",
          "feature_1",
          "feature_58",
          "feature_35",
          "feature_86",
          "feature_88",
          "feature_3",
          "feature_89",
          "feature_38",
          "feature_22",
          "feature_11",
          "feature_77",
          "feature_17",
          "feature_13",
          "feature_47",
          "feature_91",
          "feature_25",
          "feature_82",
          "feature_4",
          "feature_39",
          "feature_61",
          "feature_84",
          "feature_12",
          "feature_30",
          "feature_37",
          "feature_83",
          "feature_81",
          "feature_74",
          "feature_10",
          "feature_66",
          "feature_16"
         ],
         "textfont": {
          "color": "rgb(51,160,44)",
          "family": "sans serif",
          "size": 18
         },
         "textposition": "bottom center",
         "type": "scatter",
         "visible": false,
         "x": [
          0,
          1,
          2,
          3,
          4,
          5,
          6,
          7,
          8,
          9,
          10,
          11,
          12,
          13,
          14,
          15,
          16,
          17,
          18,
          19,
          20,
          21,
          22,
          23,
          24,
          25,
          26,
          27,
          28,
          29,
          30,
          31,
          32,
          33,
          34,
          35,
          36,
          37,
          38,
          39,
          40,
          41,
          42,
          43,
          44,
          45,
          46,
          47,
          48,
          49,
          50,
          51,
          52,
          53,
          54,
          55,
          56,
          57,
          58,
          59,
          60,
          61,
          62,
          63,
          64,
          65,
          66,
          67,
          68,
          69,
          70,
          71,
          72,
          73,
          74,
          75,
          76,
          77,
          78,
          79,
          80,
          81,
          82,
          83,
          84,
          85,
          86,
          87,
          88,
          89,
          90,
          91,
          92,
          93,
          94,
          95,
          96,
          97,
          98,
          99
         ],
         "y": [
          0.31210213258323516,
          0.3115174796226045,
          0.3109390889289112,
          0.3103618764866933,
          0.30992662503518714,
          0.30958212742451263,
          0.30924269930665843,
          0.3089081402303606,
          0.3086118692609296,
          0.308347542241102,
          0.3080979385091825,
          0.3078535770414646,
          0.3076104575394614,
          0.30737078101639864,
          0.3071503049672352,
          0.30694217695568904,
          0.3067409012683829,
          0.30658139045205507,
          0.3064220917861321,
          0.3062646473691209,
          0.3061083382407726,
          0.3059798193214997,
          0.30585620087130533,
          0.3057444528919575,
          0.3056549752167378,
          0.3055745630914504,
          0.30549760076745075,
          0.3054224458621281,
          0.3053864548180369,
          0.30535270467083103,
          0.30533375196549356,
          0.3053175442338631,
          0.3053130970555059,
          0.3053130970555059,
          0.3053130970555059,
          0.3053130970555059,
          0.3053130970555059,
          0.3053130970555059,
          0.3053130970555059,
          0.3053130970555059,
          0.3053130970555059,
          0.3053130970555059,
          0.3053130970555059,
          0.3053130970555059,
          0.3053130970555059,
          0.3053130970555059,
          0.3053130970555059,
          0.3053130970555059,
          0.3053130970555059,
          0.3053130970555059,
          0.3053130970555059,
          0.3053130970555059,
          0.3053130970555059,
          0.3053130970555059,
          0.3053130970555059,
          0.3053130970555059,
          0.3053130970555059,
          0.3053130970555059,
          0.3053130970555059,
          0.3053130970555059,
          0.3053130970555059,
          0.3053130970555059,
          0.3053130970555059,
          0.3053130970555059,
          0.3053130970555059,
          0.3053136629307906,
          0.30531691600446,
          0.3053382690513721,
          0.30536202779462274,
          0.30539475563146573,
          0.30542884561217576,
          0.30547415894966584,
          0.30552893314696217,
          0.3056067635260839,
          0.3056954223752054,
          0.30579468343877647,
          0.30589960294986024,
          0.3060134608944261,
          0.3061445859112338,
          0.3062766151772383,
          0.3064322080818125,
          0.30662325646515326,
          0.30682305303569396,
          0.30707457102269475,
          0.3073395279072376,
          0.30761348947069234,
          0.3079239694073434,
          0.3082539868956898,
          0.3085957638838508,
          0.30896089398371274,
          0.3094096927974373,
          0.3099259989858587,
          0.3104502124169741,
          0.31097418397369614,
          0.31151991054729256,
          0.3121212457355362,
          0.31314238348667844,
          0.3151323117838803,
          0.32048863059533456,
          0.33853992362797897
         ]
        }
       ],
       "layout": {
        "showlegend": false,
        "template": {
         "data": {
          "bar": [
           {
            "error_x": {
             "color": "#2a3f5f"
            },
            "error_y": {
             "color": "#2a3f5f"
            },
            "marker": {
             "line": {
              "color": "#E5ECF6",
              "width": 0.5
             },
             "pattern": {
              "fillmode": "overlay",
              "size": 10,
              "solidity": 0.2
             }
            },
            "type": "bar"
           }
          ],
          "barpolar": [
           {
            "marker": {
             "line": {
              "color": "#E5ECF6",
              "width": 0.5
             },
             "pattern": {
              "fillmode": "overlay",
              "size": 10,
              "solidity": 0.2
             }
            },
            "type": "barpolar"
           }
          ],
          "carpet": [
           {
            "aaxis": {
             "endlinecolor": "#2a3f5f",
             "gridcolor": "white",
             "linecolor": "white",
             "minorgridcolor": "white",
             "startlinecolor": "#2a3f5f"
            },
            "baxis": {
             "endlinecolor": "#2a3f5f",
             "gridcolor": "white",
             "linecolor": "white",
             "minorgridcolor": "white",
             "startlinecolor": "#2a3f5f"
            },
            "type": "carpet"
           }
          ],
          "choropleth": [
           {
            "colorbar": {
             "outlinewidth": 0,
             "ticks": ""
            },
            "type": "choropleth"
           }
          ],
          "contour": [
           {
            "colorbar": {
             "outlinewidth": 0,
             "ticks": ""
            },
            "colorscale": [
             [
              0,
              "#0d0887"
             ],
             [
              0.1111111111111111,
              "#46039f"
             ],
             [
              0.2222222222222222,
              "#7201a8"
             ],
             [
              0.3333333333333333,
              "#9c179e"
             ],
             [
              0.4444444444444444,
              "#bd3786"
             ],
             [
              0.5555555555555556,
              "#d8576b"
             ],
             [
              0.6666666666666666,
              "#ed7953"
             ],
             [
              0.7777777777777778,
              "#fb9f3a"
             ],
             [
              0.8888888888888888,
              "#fdca26"
             ],
             [
              1,
              "#f0f921"
             ]
            ],
            "type": "contour"
           }
          ],
          "contourcarpet": [
           {
            "colorbar": {
             "outlinewidth": 0,
             "ticks": ""
            },
            "type": "contourcarpet"
           }
          ],
          "heatmap": [
           {
            "colorbar": {
             "outlinewidth": 0,
             "ticks": ""
            },
            "colorscale": [
             [
              0,
              "#0d0887"
             ],
             [
              0.1111111111111111,
              "#46039f"
             ],
             [
              0.2222222222222222,
              "#7201a8"
             ],
             [
              0.3333333333333333,
              "#9c179e"
             ],
             [
              0.4444444444444444,
              "#bd3786"
             ],
             [
              0.5555555555555556,
              "#d8576b"
             ],
             [
              0.6666666666666666,
              "#ed7953"
             ],
             [
              0.7777777777777778,
              "#fb9f3a"
             ],
             [
              0.8888888888888888,
              "#fdca26"
             ],
             [
              1,
              "#f0f921"
             ]
            ],
            "type": "heatmap"
           }
          ],
          "heatmapgl": [
           {
            "colorbar": {
             "outlinewidth": 0,
             "ticks": ""
            },
            "colorscale": [
             [
              0,
              "#0d0887"
             ],
             [
              0.1111111111111111,
              "#46039f"
             ],
             [
              0.2222222222222222,
              "#7201a8"
             ],
             [
              0.3333333333333333,
              "#9c179e"
             ],
             [
              0.4444444444444444,
              "#bd3786"
             ],
             [
              0.5555555555555556,
              "#d8576b"
             ],
             [
              0.6666666666666666,
              "#ed7953"
             ],
             [
              0.7777777777777778,
              "#fb9f3a"
             ],
             [
              0.8888888888888888,
              "#fdca26"
             ],
             [
              1,
              "#f0f921"
             ]
            ],
            "type": "heatmapgl"
           }
          ],
          "histogram": [
           {
            "marker": {
             "pattern": {
              "fillmode": "overlay",
              "size": 10,
              "solidity": 0.2
             }
            },
            "type": "histogram"
           }
          ],
          "histogram2d": [
           {
            "colorbar": {
             "outlinewidth": 0,
             "ticks": ""
            },
            "colorscale": [
             [
              0,
              "#0d0887"
             ],
             [
              0.1111111111111111,
              "#46039f"
             ],
             [
              0.2222222222222222,
              "#7201a8"
             ],
             [
              0.3333333333333333,
              "#9c179e"
             ],
             [
              0.4444444444444444,
              "#bd3786"
             ],
             [
              0.5555555555555556,
              "#d8576b"
             ],
             [
              0.6666666666666666,
              "#ed7953"
             ],
             [
              0.7777777777777778,
              "#fb9f3a"
             ],
             [
              0.8888888888888888,
              "#fdca26"
             ],
             [
              1,
              "#f0f921"
             ]
            ],
            "type": "histogram2d"
           }
          ],
          "histogram2dcontour": [
           {
            "colorbar": {
             "outlinewidth": 0,
             "ticks": ""
            },
            "colorscale": [
             [
              0,
              "#0d0887"
             ],
             [
              0.1111111111111111,
              "#46039f"
             ],
             [
              0.2222222222222222,
              "#7201a8"
             ],
             [
              0.3333333333333333,
              "#9c179e"
             ],
             [
              0.4444444444444444,
              "#bd3786"
             ],
             [
              0.5555555555555556,
              "#d8576b"
             ],
             [
              0.6666666666666666,
              "#ed7953"
             ],
             [
              0.7777777777777778,
              "#fb9f3a"
             ],
             [
              0.8888888888888888,
              "#fdca26"
             ],
             [
              1,
              "#f0f921"
             ]
            ],
            "type": "histogram2dcontour"
           }
          ],
          "mesh3d": [
           {
            "colorbar": {
             "outlinewidth": 0,
             "ticks": ""
            },
            "type": "mesh3d"
           }
          ],
          "parcoords": [
           {
            "line": {
             "colorbar": {
              "outlinewidth": 0,
              "ticks": ""
             }
            },
            "type": "parcoords"
           }
          ],
          "pie": [
           {
            "automargin": true,
            "type": "pie"
           }
          ],
          "scatter": [
           {
            "fillpattern": {
             "fillmode": "overlay",
             "size": 10,
             "solidity": 0.2
            },
            "type": "scatter"
           }
          ],
          "scatter3d": [
           {
            "line": {
             "colorbar": {
              "outlinewidth": 0,
              "ticks": ""
             }
            },
            "marker": {
             "colorbar": {
              "outlinewidth": 0,
              "ticks": ""
             }
            },
            "type": "scatter3d"
           }
          ],
          "scattercarpet": [
           {
            "marker": {
             "colorbar": {
              "outlinewidth": 0,
              "ticks": ""
             }
            },
            "type": "scattercarpet"
           }
          ],
          "scattergeo": [
           {
            "marker": {
             "colorbar": {
              "outlinewidth": 0,
              "ticks": ""
             }
            },
            "type": "scattergeo"
           }
          ],
          "scattergl": [
           {
            "marker": {
             "colorbar": {
              "outlinewidth": 0,
              "ticks": ""
             }
            },
            "type": "scattergl"
           }
          ],
          "scattermapbox": [
           {
            "marker": {
             "colorbar": {
              "outlinewidth": 0,
              "ticks": ""
             }
            },
            "type": "scattermapbox"
           }
          ],
          "scatterpolar": [
           {
            "marker": {
             "colorbar": {
              "outlinewidth": 0,
              "ticks": ""
             }
            },
            "type": "scatterpolar"
           }
          ],
          "scatterpolargl": [
           {
            "marker": {
             "colorbar": {
              "outlinewidth": 0,
              "ticks": ""
             }
            },
            "type": "scatterpolargl"
           }
          ],
          "scatterternary": [
           {
            "marker": {
             "colorbar": {
              "outlinewidth": 0,
              "ticks": ""
             }
            },
            "type": "scatterternary"
           }
          ],
          "surface": [
           {
            "colorbar": {
             "outlinewidth": 0,
             "ticks": ""
            },
            "colorscale": [
             [
              0,
              "#0d0887"
             ],
             [
              0.1111111111111111,
              "#46039f"
             ],
             [
              0.2222222222222222,
              "#7201a8"
             ],
             [
              0.3333333333333333,
              "#9c179e"
             ],
             [
              0.4444444444444444,
              "#bd3786"
             ],
             [
              0.5555555555555556,
              "#d8576b"
             ],
             [
              0.6666666666666666,
              "#ed7953"
             ],
             [
              0.7777777777777778,
              "#fb9f3a"
             ],
             [
              0.8888888888888888,
              "#fdca26"
             ],
             [
              1,
              "#f0f921"
             ]
            ],
            "type": "surface"
           }
          ],
          "table": [
           {
            "cells": {
             "fill": {
              "color": "#EBF0F8"
             },
             "line": {
              "color": "white"
             }
            },
            "header": {
             "fill": {
              "color": "#C8D4E3"
             },
             "line": {
              "color": "white"
             }
            },
            "type": "table"
           }
          ]
         },
         "layout": {
          "annotationdefaults": {
           "arrowcolor": "#2a3f5f",
           "arrowhead": 0,
           "arrowwidth": 1
          },
          "autotypenumbers": "strict",
          "coloraxis": {
           "colorbar": {
            "outlinewidth": 0,
            "ticks": ""
           }
          },
          "colorscale": {
           "diverging": [
            [
             0,
             "#8e0152"
            ],
            [
             0.1,
             "#c51b7d"
            ],
            [
             0.2,
             "#de77ae"
            ],
            [
             0.3,
             "#f1b6da"
            ],
            [
             0.4,
             "#fde0ef"
            ],
            [
             0.5,
             "#f7f7f7"
            ],
            [
             0.6,
             "#e6f5d0"
            ],
            [
             0.7,
             "#b8e186"
            ],
            [
             0.8,
             "#7fbc41"
            ],
            [
             0.9,
             "#4d9221"
            ],
            [
             1,
             "#276419"
            ]
           ],
           "sequential": [
            [
             0,
             "#0d0887"
            ],
            [
             0.1111111111111111,
             "#46039f"
            ],
            [
             0.2222222222222222,
             "#7201a8"
            ],
            [
             0.3333333333333333,
             "#9c179e"
            ],
            [
             0.4444444444444444,
             "#bd3786"
            ],
            [
             0.5555555555555556,
             "#d8576b"
            ],
            [
             0.6666666666666666,
             "#ed7953"
            ],
            [
             0.7777777777777778,
             "#fb9f3a"
            ],
            [
             0.8888888888888888,
             "#fdca26"
            ],
            [
             1,
             "#f0f921"
            ]
           ],
           "sequentialminus": [
            [
             0,
             "#0d0887"
            ],
            [
             0.1111111111111111,
             "#46039f"
            ],
            [
             0.2222222222222222,
             "#7201a8"
            ],
            [
             0.3333333333333333,
             "#9c179e"
            ],
            [
             0.4444444444444444,
             "#bd3786"
            ],
            [
             0.5555555555555556,
             "#d8576b"
            ],
            [
             0.6666666666666666,
             "#ed7953"
            ],
            [
             0.7777777777777778,
             "#fb9f3a"
            ],
            [
             0.8888888888888888,
             "#fdca26"
            ],
            [
             1,
             "#f0f921"
            ]
           ]
          },
          "colorway": [
           "#636efa",
           "#EF553B",
           "#00cc96",
           "#ab63fa",
           "#FFA15A",
           "#19d3f3",
           "#FF6692",
           "#B6E880",
           "#FF97FF",
           "#FECB52"
          ],
          "font": {
           "color": "#2a3f5f"
          },
          "geo": {
           "bgcolor": "white",
           "lakecolor": "white",
           "landcolor": "#E5ECF6",
           "showlakes": true,
           "showland": true,
           "subunitcolor": "white"
          },
          "hoverlabel": {
           "align": "left"
          },
          "hovermode": "closest",
          "mapbox": {
           "style": "light"
          },
          "paper_bgcolor": "white",
          "plot_bgcolor": "#E5ECF6",
          "polar": {
           "angularaxis": {
            "gridcolor": "white",
            "linecolor": "white",
            "ticks": ""
           },
           "bgcolor": "#E5ECF6",
           "radialaxis": {
            "gridcolor": "white",
            "linecolor": "white",
            "ticks": ""
           }
          },
          "scene": {
           "xaxis": {
            "backgroundcolor": "#E5ECF6",
            "gridcolor": "white",
            "gridwidth": 2,
            "linecolor": "white",
            "showbackground": true,
            "ticks": "",
            "zerolinecolor": "white"
           },
           "yaxis": {
            "backgroundcolor": "#E5ECF6",
            "gridcolor": "white",
            "gridwidth": 2,
            "linecolor": "white",
            "showbackground": true,
            "ticks": "",
            "zerolinecolor": "white"
           },
           "zaxis": {
            "backgroundcolor": "#E5ECF6",
            "gridcolor": "white",
            "gridwidth": 2,
            "linecolor": "white",
            "showbackground": true,
            "ticks": "",
            "zerolinecolor": "white"
           }
          },
          "shapedefaults": {
           "line": {
            "color": "#2a3f5f"
           }
          },
          "ternary": {
           "aaxis": {
            "gridcolor": "white",
            "linecolor": "white",
            "ticks": ""
           },
           "baxis": {
            "gridcolor": "white",
            "linecolor": "white",
            "ticks": ""
           },
           "bgcolor": "#E5ECF6",
           "caxis": {
            "gridcolor": "white",
            "linecolor": "white",
            "ticks": ""
           }
          },
          "title": {
           "x": 0.05
          },
          "xaxis": {
           "automargin": true,
           "gridcolor": "white",
           "linecolor": "white",
           "ticks": "",
           "title": {
            "standoff": 15
           },
           "zerolinecolor": "white",
           "zerolinewidth": 2
          },
          "yaxis": {
           "automargin": true,
           "gridcolor": "white",
           "linecolor": "white",
           "ticks": "",
           "title": {
            "standoff": 15
           },
           "zerolinecolor": "white",
           "zerolinewidth": 2
          }
         }
        },
        "title": {
         "text": "Loss by eliminated features"
        },
        "updatemenus": [
         {
          "active": 0,
          "buttons": [
           {
            "args": [
             {
              "visible": [
               true,
               true,
               false,
               false
              ]
             }
            ],
            "label": "Hide features",
            "method": "update"
           },
           {
            "args": [
             {
              "visible": [
               true,
               true,
               true,
               false
              ]
             }
            ],
            "label": "Show indices",
            "method": "update"
           },
           {
            "args": [
             {
              "visible": [
               true,
               true,
               false,
               true
              ]
             }
            ],
            "label": "Show names",
            "method": "update"
           }
          ],
          "pad": {
           "r": 10,
           "t": 10
          },
          "showactive": true,
          "x": -0.25,
          "xanchor": "left",
          "y": 1.03,
          "yanchor": "top"
         }
        ],
        "xaxis": {
         "gridcolor": "rgb(255,255,255)",
         "showgrid": true,
         "showline": false,
         "showticklabels": true,
         "tickcolor": "rgb(127,127,127)",
         "ticks": "outside",
         "title": {
          "text": "number of removed features"
         },
         "zeroline": false
        },
        "yaxis": {
         "gridcolor": "rgb(255,255,255)",
         "showgrid": true,
         "showline": false,
         "showticklabels": true,
         "tickcolor": "rgb(127,127,127)",
         "tickfont": {
          "color": "rgb(51,160,44)"
         },
         "ticks": "outside",
         "title": {
          "font": {
           "color": "rgb(51,160,44)"
          },
          "text": "loss value"
         },
         "zeroline": false
        }
       }
      },
      "text/html": [
       "<div>                            <div id=\"c98c7944-98ea-4af0-91fb-d11e3b1b77cd\" class=\"plotly-graph-div\" style=\"height:525px; width:100%;\"></div>            <script type=\"text/javascript\">                require([\"plotly\"], function(Plotly) {                    window.PLOTLYENV=window.PLOTLYENV || {};                                    if (document.getElementById(\"c98c7944-98ea-4af0-91fb-d11e3b1b77cd\")) {                    Plotly.newPlot(                        \"c98c7944-98ea-4af0-91fb-d11e3b1b77cd\",                        [{\"line\":{\"color\":\"rgb(51,160,44)\"},\"mode\":\"lines+markers\",\"name\":\"\",\"text\":[\"\",\"feature_20\",\"feature_62\",\"feature_53\",\"feature_40\",\"feature_75\",\"feature_8\",\"feature_44\",\"feature_14\",\"feature_9\",\"feature_28\",\"feature_99\",\"feature_59\",\"feature_33\",\"feature_80\",\"feature_43\",\"feature_98\",\"feature_70\",\"feature_32\",\"feature_87\",\"feature_36\",\"feature_76\",\"feature_23\",\"feature_51\",\"feature_57\",\"feature_71\",\"feature_29\",\"feature_42\",\"feature_26\",\"feature_96\",\"feature_18\",\"feature_49\",\"feature_15\",\"feature_2\",\"feature_5\",\"feature_6\",\"feature_7\",\"feature_19\",\"feature_21\",\"feature_24\",\"feature_31\",\"feature_34\",\"feature_41\",\"feature_46\",\"feature_48\",\"feature_50\",\"feature_52\",\"feature_54\",\"feature_55\",\"feature_56\",\"feature_63\",\"feature_64\",\"feature_65\",\"feature_67\",\"feature_68\",\"feature_69\",\"feature_72\",\"feature_73\",\"feature_78\",\"feature_79\",\"feature_85\",\"feature_90\",\"feature_92\",\"feature_94\",\"feature_95\",\"feature_97\",\"feature_93\",\"feature_27\",\"feature_0\",\"feature_45\",\"feature_1\",\"feature_58\",\"feature_35\",\"feature_86\",\"feature_88\",\"feature_3\",\"feature_89\",\"feature_38\",\"feature_22\",\"feature_11\",\"feature_77\",\"feature_17\",\"feature_13\",\"feature_47\",\"feature_91\",\"feature_25\",\"feature_82\",\"feature_4\",\"feature_39\",\"feature_61\",\"feature_84\",\"feature_12\",\"feature_30\",\"feature_37\",\"feature_83\",\"feature_81\",\"feature_74\",\"feature_10\",\"feature_66\",\"feature_16\"],\"x\":[0,1,2,3,4,5,6,7,8,9,10,11,12,13,14,15,16,17,18,19,20,21,22,23,24,25,26,27,28,29,30,31,32,33,34,35,36,37,38,39,40,41,42,43,44,45,46,47,48,49,50,51,52,53,54,55,56,57,58,59,60,61,62,63,64,65,66,67,68,69,70,71,72,73,74,75,76,77,78,79,80,81,82,83,84,85,86,87,88,89,90,91,92,93,94,95,96,97,98,99],\"y\":[0.31210213258323516,0.3115174796226045,0.3109390889289112,0.3103618764866933,0.30992662503518714,0.30958212742451263,0.30924269930665843,0.3089081402303606,0.3086118692609296,0.308347542241102,0.3080979385091825,0.3078535770414646,0.3076104575394614,0.30737078101639864,0.3071503049672352,0.30694217695568904,0.3067409012683829,0.30658139045205507,0.3064220917861321,0.3062646473691209,0.3061083382407726,0.3059798193214997,0.30585620087130533,0.3057444528919575,0.3056549752167378,0.3055745630914504,0.30549760076745075,0.3054224458621281,0.3053864548180369,0.30535270467083103,0.30533375196549356,0.3053175442338631,0.3053130970555059,0.3053130970555059,0.3053130970555059,0.3053130970555059,0.3053130970555059,0.3053130970555059,0.3053130970555059,0.3053130970555059,0.3053130970555059,0.3053130970555059,0.3053130970555059,0.3053130970555059,0.3053130970555059,0.3053130970555059,0.3053130970555059,0.3053130970555059,0.3053130970555059,0.3053130970555059,0.3053130970555059,0.3053130970555059,0.3053130970555059,0.3053130970555059,0.3053130970555059,0.3053130970555059,0.3053130970555059,0.3053130970555059,0.3053130970555059,0.3053130970555059,0.3053130970555059,0.3053130970555059,0.3053130970555059,0.3053130970555059,0.3053130970555059,0.3053136629307906,0.30531691600446,0.3053382690513721,0.30536202779462274,0.30539475563146573,0.30542884561217576,0.30547415894966584,0.30552893314696217,0.3056067635260839,0.3056954223752054,0.30579468343877647,0.30589960294986024,0.3060134608944261,0.3061445859112338,0.3062766151772383,0.3064322080818125,0.30662325646515326,0.30682305303569396,0.30707457102269475,0.3073395279072376,0.30761348947069234,0.3079239694073434,0.3082539868956898,0.3085957638838508,0.30896089398371274,0.3094096927974373,0.3099259989858587,0.3104502124169741,0.31097418397369614,0.31151991054729256,0.3121212457355362,0.31314238348667844,0.3151323117838803,0.32048863059533456,0.33853992362797897],\"type\":\"scatter\"},{\"marker\":{\"size\":10,\"symbol\":\"square\"},\"mode\":\"markers\",\"name\":\"\",\"text\":[\"\",\"feature_16\"],\"x\":[0,99],\"y\":[0.31210213258323516,0.33853992362797897],\"type\":\"scatter\"},{\"mode\":\"text\",\"name\":\"\",\"text\":[\"\",\"20\",\"62\",\"53\",\"40\",\"75\",\"8\",\"44\",\"14\",\"9\",\"28\",\"99\",\"59\",\"33\",\"80\",\"43\",\"98\",\"70\",\"32\",\"87\",\"36\",\"76\",\"23\",\"51\",\"57\",\"71\",\"29\",\"42\",\"26\",\"96\",\"18\",\"49\",\"15\",\"2\",\"5\",\"6\",\"7\",\"19\",\"21\",\"24\",\"31\",\"34\",\"41\",\"46\",\"48\",\"50\",\"52\",\"54\",\"55\",\"56\",\"63\",\"64\",\"65\",\"67\",\"68\",\"69\",\"72\",\"73\",\"78\",\"79\",\"85\",\"90\",\"92\",\"94\",\"95\",\"97\",\"93\",\"27\",\"0\",\"45\",\"1\",\"58\",\"35\",\"86\",\"88\",\"3\",\"89\",\"38\",\"22\",\"11\",\"77\",\"17\",\"13\",\"47\",\"91\",\"25\",\"82\",\"4\",\"39\",\"61\",\"84\",\"12\",\"30\",\"37\",\"83\",\"81\",\"74\",\"10\",\"66\",\"16\"],\"textfont\":{\"color\":\"rgb(51,160,44)\",\"family\":\"sans serif\",\"size\":18},\"textposition\":\"bottom center\",\"visible\":false,\"x\":[0,1,2,3,4,5,6,7,8,9,10,11,12,13,14,15,16,17,18,19,20,21,22,23,24,25,26,27,28,29,30,31,32,33,34,35,36,37,38,39,40,41,42,43,44,45,46,47,48,49,50,51,52,53,54,55,56,57,58,59,60,61,62,63,64,65,66,67,68,69,70,71,72,73,74,75,76,77,78,79,80,81,82,83,84,85,86,87,88,89,90,91,92,93,94,95,96,97,98,99],\"y\":[0.31210213258323516,0.3115174796226045,0.3109390889289112,0.3103618764866933,0.30992662503518714,0.30958212742451263,0.30924269930665843,0.3089081402303606,0.3086118692609296,0.308347542241102,0.3080979385091825,0.3078535770414646,0.3076104575394614,0.30737078101639864,0.3071503049672352,0.30694217695568904,0.3067409012683829,0.30658139045205507,0.3064220917861321,0.3062646473691209,0.3061083382407726,0.3059798193214997,0.30585620087130533,0.3057444528919575,0.3056549752167378,0.3055745630914504,0.30549760076745075,0.3054224458621281,0.3053864548180369,0.30535270467083103,0.30533375196549356,0.3053175442338631,0.3053130970555059,0.3053130970555059,0.3053130970555059,0.3053130970555059,0.3053130970555059,0.3053130970555059,0.3053130970555059,0.3053130970555059,0.3053130970555059,0.3053130970555059,0.3053130970555059,0.3053130970555059,0.3053130970555059,0.3053130970555059,0.3053130970555059,0.3053130970555059,0.3053130970555059,0.3053130970555059,0.3053130970555059,0.3053130970555059,0.3053130970555059,0.3053130970555059,0.3053130970555059,0.3053130970555059,0.3053130970555059,0.3053130970555059,0.3053130970555059,0.3053130970555059,0.3053130970555059,0.3053130970555059,0.3053130970555059,0.3053130970555059,0.3053130970555059,0.3053136629307906,0.30531691600446,0.3053382690513721,0.30536202779462274,0.30539475563146573,0.30542884561217576,0.30547415894966584,0.30552893314696217,0.3056067635260839,0.3056954223752054,0.30579468343877647,0.30589960294986024,0.3060134608944261,0.3061445859112338,0.3062766151772383,0.3064322080818125,0.30662325646515326,0.30682305303569396,0.30707457102269475,0.3073395279072376,0.30761348947069234,0.3079239694073434,0.3082539868956898,0.3085957638838508,0.30896089398371274,0.3094096927974373,0.3099259989858587,0.3104502124169741,0.31097418397369614,0.31151991054729256,0.3121212457355362,0.31314238348667844,0.3151323117838803,0.32048863059533456,0.33853992362797897],\"type\":\"scatter\"},{\"mode\":\"text\",\"name\":\"\",\"text\":[\"\",\"feature_20\",\"feature_62\",\"feature_53\",\"feature_40\",\"feature_75\",\"feature_8\",\"feature_44\",\"feature_14\",\"feature_9\",\"feature_28\",\"feature_99\",\"feature_59\",\"feature_33\",\"feature_80\",\"feature_43\",\"feature_98\",\"feature_70\",\"feature_32\",\"feature_87\",\"feature_36\",\"feature_76\",\"feature_23\",\"feature_51\",\"feature_57\",\"feature_71\",\"feature_29\",\"feature_42\",\"feature_26\",\"feature_96\",\"feature_18\",\"feature_49\",\"feature_15\",\"feature_2\",\"feature_5\",\"feature_6\",\"feature_7\",\"feature_19\",\"feature_21\",\"feature_24\",\"feature_31\",\"feature_34\",\"feature_41\",\"feature_46\",\"feature_48\",\"feature_50\",\"feature_52\",\"feature_54\",\"feature_55\",\"feature_56\",\"feature_63\",\"feature_64\",\"feature_65\",\"feature_67\",\"feature_68\",\"feature_69\",\"feature_72\",\"feature_73\",\"feature_78\",\"feature_79\",\"feature_85\",\"feature_90\",\"feature_92\",\"feature_94\",\"feature_95\",\"feature_97\",\"feature_93\",\"feature_27\",\"feature_0\",\"feature_45\",\"feature_1\",\"feature_58\",\"feature_35\",\"feature_86\",\"feature_88\",\"feature_3\",\"feature_89\",\"feature_38\",\"feature_22\",\"feature_11\",\"feature_77\",\"feature_17\",\"feature_13\",\"feature_47\",\"feature_91\",\"feature_25\",\"feature_82\",\"feature_4\",\"feature_39\",\"feature_61\",\"feature_84\",\"feature_12\",\"feature_30\",\"feature_37\",\"feature_83\",\"feature_81\",\"feature_74\",\"feature_10\",\"feature_66\",\"feature_16\"],\"textfont\":{\"color\":\"rgb(51,160,44)\",\"family\":\"sans serif\",\"size\":18},\"textposition\":\"bottom center\",\"visible\":false,\"x\":[0,1,2,3,4,5,6,7,8,9,10,11,12,13,14,15,16,17,18,19,20,21,22,23,24,25,26,27,28,29,30,31,32,33,34,35,36,37,38,39,40,41,42,43,44,45,46,47,48,49,50,51,52,53,54,55,56,57,58,59,60,61,62,63,64,65,66,67,68,69,70,71,72,73,74,75,76,77,78,79,80,81,82,83,84,85,86,87,88,89,90,91,92,93,94,95,96,97,98,99],\"y\":[0.31210213258323516,0.3115174796226045,0.3109390889289112,0.3103618764866933,0.30992662503518714,0.30958212742451263,0.30924269930665843,0.3089081402303606,0.3086118692609296,0.308347542241102,0.3080979385091825,0.3078535770414646,0.3076104575394614,0.30737078101639864,0.3071503049672352,0.30694217695568904,0.3067409012683829,0.30658139045205507,0.3064220917861321,0.3062646473691209,0.3061083382407726,0.3059798193214997,0.30585620087130533,0.3057444528919575,0.3056549752167378,0.3055745630914504,0.30549760076745075,0.3054224458621281,0.3053864548180369,0.30535270467083103,0.30533375196549356,0.3053175442338631,0.3053130970555059,0.3053130970555059,0.3053130970555059,0.3053130970555059,0.3053130970555059,0.3053130970555059,0.3053130970555059,0.3053130970555059,0.3053130970555059,0.3053130970555059,0.3053130970555059,0.3053130970555059,0.3053130970555059,0.3053130970555059,0.3053130970555059,0.3053130970555059,0.3053130970555059,0.3053130970555059,0.3053130970555059,0.3053130970555059,0.3053130970555059,0.3053130970555059,0.3053130970555059,0.3053130970555059,0.3053130970555059,0.3053130970555059,0.3053130970555059,0.3053130970555059,0.3053130970555059,0.3053130970555059,0.3053130970555059,0.3053130970555059,0.3053130970555059,0.3053136629307906,0.30531691600446,0.3053382690513721,0.30536202779462274,0.30539475563146573,0.30542884561217576,0.30547415894966584,0.30552893314696217,0.3056067635260839,0.3056954223752054,0.30579468343877647,0.30589960294986024,0.3060134608944261,0.3061445859112338,0.3062766151772383,0.3064322080818125,0.30662325646515326,0.30682305303569396,0.30707457102269475,0.3073395279072376,0.30761348947069234,0.3079239694073434,0.3082539868956898,0.3085957638838508,0.30896089398371274,0.3094096927974373,0.3099259989858587,0.3104502124169741,0.31097418397369614,0.31151991054729256,0.3121212457355362,0.31314238348667844,0.3151323117838803,0.32048863059533456,0.33853992362797897],\"type\":\"scatter\"}],                        {\"template\":{\"data\":{\"histogram2dcontour\":[{\"type\":\"histogram2dcontour\",\"colorbar\":{\"outlinewidth\":0,\"ticks\":\"\"},\"colorscale\":[[0.0,\"#0d0887\"],[0.1111111111111111,\"#46039f\"],[0.2222222222222222,\"#7201a8\"],[0.3333333333333333,\"#9c179e\"],[0.4444444444444444,\"#bd3786\"],[0.5555555555555556,\"#d8576b\"],[0.6666666666666666,\"#ed7953\"],[0.7777777777777778,\"#fb9f3a\"],[0.8888888888888888,\"#fdca26\"],[1.0,\"#f0f921\"]]}],\"choropleth\":[{\"type\":\"choropleth\",\"colorbar\":{\"outlinewidth\":0,\"ticks\":\"\"}}],\"histogram2d\":[{\"type\":\"histogram2d\",\"colorbar\":{\"outlinewidth\":0,\"ticks\":\"\"},\"colorscale\":[[0.0,\"#0d0887\"],[0.1111111111111111,\"#46039f\"],[0.2222222222222222,\"#7201a8\"],[0.3333333333333333,\"#9c179e\"],[0.4444444444444444,\"#bd3786\"],[0.5555555555555556,\"#d8576b\"],[0.6666666666666666,\"#ed7953\"],[0.7777777777777778,\"#fb9f3a\"],[0.8888888888888888,\"#fdca26\"],[1.0,\"#f0f921\"]]}],\"heatmap\":[{\"type\":\"heatmap\",\"colorbar\":{\"outlinewidth\":0,\"ticks\":\"\"},\"colorscale\":[[0.0,\"#0d0887\"],[0.1111111111111111,\"#46039f\"],[0.2222222222222222,\"#7201a8\"],[0.3333333333333333,\"#9c179e\"],[0.4444444444444444,\"#bd3786\"],[0.5555555555555556,\"#d8576b\"],[0.6666666666666666,\"#ed7953\"],[0.7777777777777778,\"#fb9f3a\"],[0.8888888888888888,\"#fdca26\"],[1.0,\"#f0f921\"]]}],\"heatmapgl\":[{\"type\":\"heatmapgl\",\"colorbar\":{\"outlinewidth\":0,\"ticks\":\"\"},\"colorscale\":[[0.0,\"#0d0887\"],[0.1111111111111111,\"#46039f\"],[0.2222222222222222,\"#7201a8\"],[0.3333333333333333,\"#9c179e\"],[0.4444444444444444,\"#bd3786\"],[0.5555555555555556,\"#d8576b\"],[0.6666666666666666,\"#ed7953\"],[0.7777777777777778,\"#fb9f3a\"],[0.8888888888888888,\"#fdca26\"],[1.0,\"#f0f921\"]]}],\"contourcarpet\":[{\"type\":\"contourcarpet\",\"colorbar\":{\"outlinewidth\":0,\"ticks\":\"\"}}],\"contour\":[{\"type\":\"contour\",\"colorbar\":{\"outlinewidth\":0,\"ticks\":\"\"},\"colorscale\":[[0.0,\"#0d0887\"],[0.1111111111111111,\"#46039f\"],[0.2222222222222222,\"#7201a8\"],[0.3333333333333333,\"#9c179e\"],[0.4444444444444444,\"#bd3786\"],[0.5555555555555556,\"#d8576b\"],[0.6666666666666666,\"#ed7953\"],[0.7777777777777778,\"#fb9f3a\"],[0.8888888888888888,\"#fdca26\"],[1.0,\"#f0f921\"]]}],\"surface\":[{\"type\":\"surface\",\"colorbar\":{\"outlinewidth\":0,\"ticks\":\"\"},\"colorscale\":[[0.0,\"#0d0887\"],[0.1111111111111111,\"#46039f\"],[0.2222222222222222,\"#7201a8\"],[0.3333333333333333,\"#9c179e\"],[0.4444444444444444,\"#bd3786\"],[0.5555555555555556,\"#d8576b\"],[0.6666666666666666,\"#ed7953\"],[0.7777777777777778,\"#fb9f3a\"],[0.8888888888888888,\"#fdca26\"],[1.0,\"#f0f921\"]]}],\"mesh3d\":[{\"type\":\"mesh3d\",\"colorbar\":{\"outlinewidth\":0,\"ticks\":\"\"}}],\"scatter\":[{\"fillpattern\":{\"fillmode\":\"overlay\",\"size\":10,\"solidity\":0.2},\"type\":\"scatter\"}],\"parcoords\":[{\"type\":\"parcoords\",\"line\":{\"colorbar\":{\"outlinewidth\":0,\"ticks\":\"\"}}}],\"scatterpolargl\":[{\"type\":\"scatterpolargl\",\"marker\":{\"colorbar\":{\"outlinewidth\":0,\"ticks\":\"\"}}}],\"bar\":[{\"error_x\":{\"color\":\"#2a3f5f\"},\"error_y\":{\"color\":\"#2a3f5f\"},\"marker\":{\"line\":{\"color\":\"#E5ECF6\",\"width\":0.5},\"pattern\":{\"fillmode\":\"overlay\",\"size\":10,\"solidity\":0.2}},\"type\":\"bar\"}],\"scattergeo\":[{\"type\":\"scattergeo\",\"marker\":{\"colorbar\":{\"outlinewidth\":0,\"ticks\":\"\"}}}],\"scatterpolar\":[{\"type\":\"scatterpolar\",\"marker\":{\"colorbar\":{\"outlinewidth\":0,\"ticks\":\"\"}}}],\"histogram\":[{\"marker\":{\"pattern\":{\"fillmode\":\"overlay\",\"size\":10,\"solidity\":0.2}},\"type\":\"histogram\"}],\"scattergl\":[{\"type\":\"scattergl\",\"marker\":{\"colorbar\":{\"outlinewidth\":0,\"ticks\":\"\"}}}],\"scatter3d\":[{\"type\":\"scatter3d\",\"line\":{\"colorbar\":{\"outlinewidth\":0,\"ticks\":\"\"}},\"marker\":{\"colorbar\":{\"outlinewidth\":0,\"ticks\":\"\"}}}],\"scattermapbox\":[{\"type\":\"scattermapbox\",\"marker\":{\"colorbar\":{\"outlinewidth\":0,\"ticks\":\"\"}}}],\"scatterternary\":[{\"type\":\"scatterternary\",\"marker\":{\"colorbar\":{\"outlinewidth\":0,\"ticks\":\"\"}}}],\"scattercarpet\":[{\"type\":\"scattercarpet\",\"marker\":{\"colorbar\":{\"outlinewidth\":0,\"ticks\":\"\"}}}],\"carpet\":[{\"aaxis\":{\"endlinecolor\":\"#2a3f5f\",\"gridcolor\":\"white\",\"linecolor\":\"white\",\"minorgridcolor\":\"white\",\"startlinecolor\":\"#2a3f5f\"},\"baxis\":{\"endlinecolor\":\"#2a3f5f\",\"gridcolor\":\"white\",\"linecolor\":\"white\",\"minorgridcolor\":\"white\",\"startlinecolor\":\"#2a3f5f\"},\"type\":\"carpet\"}],\"table\":[{\"cells\":{\"fill\":{\"color\":\"#EBF0F8\"},\"line\":{\"color\":\"white\"}},\"header\":{\"fill\":{\"color\":\"#C8D4E3\"},\"line\":{\"color\":\"white\"}},\"type\":\"table\"}],\"barpolar\":[{\"marker\":{\"line\":{\"color\":\"#E5ECF6\",\"width\":0.5},\"pattern\":{\"fillmode\":\"overlay\",\"size\":10,\"solidity\":0.2}},\"type\":\"barpolar\"}],\"pie\":[{\"automargin\":true,\"type\":\"pie\"}]},\"layout\":{\"autotypenumbers\":\"strict\",\"colorway\":[\"#636efa\",\"#EF553B\",\"#00cc96\",\"#ab63fa\",\"#FFA15A\",\"#19d3f3\",\"#FF6692\",\"#B6E880\",\"#FF97FF\",\"#FECB52\"],\"font\":{\"color\":\"#2a3f5f\"},\"hovermode\":\"closest\",\"hoverlabel\":{\"align\":\"left\"},\"paper_bgcolor\":\"white\",\"plot_bgcolor\":\"#E5ECF6\",\"polar\":{\"bgcolor\":\"#E5ECF6\",\"angularaxis\":{\"gridcolor\":\"white\",\"linecolor\":\"white\",\"ticks\":\"\"},\"radialaxis\":{\"gridcolor\":\"white\",\"linecolor\":\"white\",\"ticks\":\"\"}},\"ternary\":{\"bgcolor\":\"#E5ECF6\",\"aaxis\":{\"gridcolor\":\"white\",\"linecolor\":\"white\",\"ticks\":\"\"},\"baxis\":{\"gridcolor\":\"white\",\"linecolor\":\"white\",\"ticks\":\"\"},\"caxis\":{\"gridcolor\":\"white\",\"linecolor\":\"white\",\"ticks\":\"\"}},\"coloraxis\":{\"colorbar\":{\"outlinewidth\":0,\"ticks\":\"\"}},\"colorscale\":{\"sequential\":[[0.0,\"#0d0887\"],[0.1111111111111111,\"#46039f\"],[0.2222222222222222,\"#7201a8\"],[0.3333333333333333,\"#9c179e\"],[0.4444444444444444,\"#bd3786\"],[0.5555555555555556,\"#d8576b\"],[0.6666666666666666,\"#ed7953\"],[0.7777777777777778,\"#fb9f3a\"],[0.8888888888888888,\"#fdca26\"],[1.0,\"#f0f921\"]],\"sequentialminus\":[[0.0,\"#0d0887\"],[0.1111111111111111,\"#46039f\"],[0.2222222222222222,\"#7201a8\"],[0.3333333333333333,\"#9c179e\"],[0.4444444444444444,\"#bd3786\"],[0.5555555555555556,\"#d8576b\"],[0.6666666666666666,\"#ed7953\"],[0.7777777777777778,\"#fb9f3a\"],[0.8888888888888888,\"#fdca26\"],[1.0,\"#f0f921\"]],\"diverging\":[[0,\"#8e0152\"],[0.1,\"#c51b7d\"],[0.2,\"#de77ae\"],[0.3,\"#f1b6da\"],[0.4,\"#fde0ef\"],[0.5,\"#f7f7f7\"],[0.6,\"#e6f5d0\"],[0.7,\"#b8e186\"],[0.8,\"#7fbc41\"],[0.9,\"#4d9221\"],[1,\"#276419\"]]},\"xaxis\":{\"gridcolor\":\"white\",\"linecolor\":\"white\",\"ticks\":\"\",\"title\":{\"standoff\":15},\"zerolinecolor\":\"white\",\"automargin\":true,\"zerolinewidth\":2},\"yaxis\":{\"gridcolor\":\"white\",\"linecolor\":\"white\",\"ticks\":\"\",\"title\":{\"standoff\":15},\"zerolinecolor\":\"white\",\"automargin\":true,\"zerolinewidth\":2},\"scene\":{\"xaxis\":{\"backgroundcolor\":\"#E5ECF6\",\"gridcolor\":\"white\",\"linecolor\":\"white\",\"showbackground\":true,\"ticks\":\"\",\"zerolinecolor\":\"white\",\"gridwidth\":2},\"yaxis\":{\"backgroundcolor\":\"#E5ECF6\",\"gridcolor\":\"white\",\"linecolor\":\"white\",\"showbackground\":true,\"ticks\":\"\",\"zerolinecolor\":\"white\",\"gridwidth\":2},\"zaxis\":{\"backgroundcolor\":\"#E5ECF6\",\"gridcolor\":\"white\",\"linecolor\":\"white\",\"showbackground\":true,\"ticks\":\"\",\"zerolinecolor\":\"white\",\"gridwidth\":2}},\"shapedefaults\":{\"line\":{\"color\":\"#2a3f5f\"}},\"annotationdefaults\":{\"arrowcolor\":\"#2a3f5f\",\"arrowhead\":0,\"arrowwidth\":1},\"geo\":{\"bgcolor\":\"white\",\"landcolor\":\"#E5ECF6\",\"subunitcolor\":\"white\",\"showland\":true,\"showlakes\":true,\"lakecolor\":\"white\"},\"title\":{\"x\":0.05},\"mapbox\":{\"style\":\"light\"}}},\"title\":{\"text\":\"Loss by eliminated features\"},\"xaxis\":{\"title\":{\"text\":\"number of removed features\"},\"gridcolor\":\"rgb(255,255,255)\",\"showgrid\":true,\"showline\":false,\"showticklabels\":true,\"tickcolor\":\"rgb(127,127,127)\",\"ticks\":\"outside\",\"zeroline\":false},\"yaxis\":{\"title\":{\"text\":\"loss value\",\"font\":{\"color\":\"rgb(51,160,44)\"}},\"tickfont\":{\"color\":\"rgb(51,160,44)\"},\"gridcolor\":\"rgb(255,255,255)\",\"showgrid\":true,\"showline\":false,\"showticklabels\":true,\"tickcolor\":\"rgb(127,127,127)\",\"ticks\":\"outside\",\"zeroline\":false},\"updatemenus\":[{\"active\":0,\"buttons\":[{\"args\":[{\"visible\":[true,true,false,false]}],\"label\":\"Hide features\",\"method\":\"update\"},{\"args\":[{\"visible\":[true,true,true,false]}],\"label\":\"Show indices\",\"method\":\"update\"},{\"args\":[{\"visible\":[true,true,false,true]}],\"label\":\"Show names\",\"method\":\"update\"}],\"pad\":{\"r\":10,\"t\":10},\"showactive\":true,\"x\":-0.25,\"xanchor\":\"left\",\"y\":1.03,\"yanchor\":\"top\"}],\"showlegend\":false},                        {\"responsive\": true}                    ).then(function(){\n",
       "                            \n",
       "var gd = document.getElementById('c98c7944-98ea-4af0-91fb-d11e3b1b77cd');\n",
       "var x = new MutationObserver(function (mutations, observer) {{\n",
       "        var display = window.getComputedStyle(gd).display;\n",
       "        if (!display || display === 'none') {{\n",
       "            console.log([gd, 'removed!']);\n",
       "            Plotly.purge(gd);\n",
       "            observer.disconnect();\n",
       "        }}\n",
       "}});\n",
       "\n",
       "// Listen for the removal of the full notebook cells\n",
       "var notebookContainer = gd.closest('#notebook-container');\n",
       "if (notebookContainer) {{\n",
       "    x.observe(notebookContainer, {childList: true});\n",
       "}}\n",
       "\n",
       "// Listen for the clearing of the current output cell\n",
       "var outputEl = gd.closest('.output');\n",
       "if (outputEl) {{\n",
       "    x.observe(outputEl, {childList: true});\n",
       "}}\n",
       "\n",
       "                        })                };                });            </script>        </div>"
      ]
     },
     "metadata": {},
     "output_type": "display_data"
    },
    {
     "name": "stdout",
     "output_type": "stream",
     "text": [
      "Оптимальное количество признаков: 33\n",
      "Выбранные признаки: ['feature_60', 'feature_16', 'feature_66', 'feature_10', 'feature_74', 'feature_81', 'feature_83', 'feature_37', 'feature_30', 'feature_12', 'feature_84', 'feature_61', 'feature_39', 'feature_4', 'feature_82', 'feature_25', 'feature_91', 'feature_47', 'feature_13', 'feature_17', 'feature_77', 'feature_11', 'feature_22', 'feature_38', 'feature_89', 'feature_3', 'feature_88', 'feature_86', 'feature_35', 'feature_58', 'feature_1', 'feature_45', 'feature_0']\n"
     ]
    }
   ],
   "source": [
    "from catboost import CatBoostClassifier, Pool, EFeaturesSelectionAlgorithm\n",
    "from sklearn.model_selection import train_test_split\n",
    "import numpy as np\n",
    "import pandas as pd\n",
    "\n",
    "# Данные\n",
    "from sklearn.datasets import make_classification\n",
    "X, y = make_classification(n_samples=1000, n_features=100, random_state=42)\n",
    "feature_names = [f'feature_{i}' for i in range(X.shape[1])]\n",
    "\n",
    "X = pd.DataFrame(X, columns=feature_names)\n",
    "\n",
    "X_train, X_val, y_train, y_val = train_test_split(X, y, test_size=0.2, random_state=42)\n",
    "\n",
    "# Пулы данных\n",
    "train_pool = Pool(X_train, label=y_train)\n",
    "val_pool = Pool(X_val, label=y_val)\n",
    "\n",
    "# Базовая модель\n",
    "model = CatBoostClassifier(iterations=200, depth=6, learning_rate=0.1, od_wait=10, eval_metric='Logloss', verbose=0)\n",
    "\n",
    "# Храним результаты\n",
    "num_features_list = []\n",
    "metrics_list = []\n",
    "\n",
    "# Запускаем отбор фичей\n",
    "selection_result = model.select_features(\n",
    "    train_pool,\n",
    "    eval_set=val_pool,\n",
    "    features_for_select=X.columns,  # Берем все признаки\n",
    "    num_features_to_select=1,  # Оставляем минимум 1 признак\n",
    "    algorithm=EFeaturesSelectionAlgorithm.RecursiveByShapValues,  # Поочередно удаляем признаки\n",
    "    steps=1,  # Убираем по 1 признаку за шаг\n",
    "    shap_calc_type=\"Regular\",  # Используем SHAP\n",
    "    train_final_model=True,  # Переобучаем модель после каждого удаления\n",
    "    plot=True,\n",
    ")\n",
    "\n",
    "# Определяем оптимальное число признаков\n",
    "optimal_idx = np.argmin(selection_result['loss_graph']['loss_values'])  # Минимальная ошибка\n",
    "optimal_features = selection_result['selected_features_names'] + selection_result['eliminated_features_names'][::-1][:optimal_idx]\n",
    "\n",
    "print(f'Оптимальное количество признаков: {len(optimal_features)}')\n",
    "print(f'Выбранные признаки: {optimal_features}')\n"
   ]
  },
  {
   "cell_type": "code",
   "execution_count": 11,
   "metadata": {},
   "outputs": [
    {
     "data": {
      "text/plain": [
       "<EShapCalcType.Approximate: 'Approximate'>"
      ]
     },
     "execution_count": 11,
     "metadata": {},
     "output_type": "execute_result"
    }
   ],
   "source": [
    "from catboost import EFeaturesSelectionAlgorithm, EShapCalcType\n",
    "\n",
    "EShapCalcType['Approximate']"
   ]
  },
  {
   "cell_type": "code",
   "execution_count": 3,
   "metadata": {},
   "outputs": [
    {
     "data": {
      "text/plain": [
       "['feature_36',\n",
       " 'feature_5',\n",
       " 'feature_54',\n",
       " 'feature_187',\n",
       " 'feature_86',\n",
       " 'feature_154',\n",
       " 'feature_160',\n",
       " 'feature_117',\n",
       " 'feature_168',\n",
       " 'feature_161',\n",
       " 'feature_112',\n",
       " 'feature_156',\n",
       " 'feature_190',\n",
       " 'feature_25',\n",
       " 'feature_85',\n",
       " 'feature_67',\n",
       " 'feature_137',\n",
       " 'feature_95',\n",
       " 'feature_198',\n",
       " 'feature_170',\n",
       " 'feature_61',\n",
       " 'feature_1',\n",
       " 'feature_58',\n",
       " 'feature_155',\n",
       " 'feature_93',\n",
       " 'feature_65',\n",
       " 'feature_102',\n",
       " 'feature_83',\n",
       " 'feature_130',\n",
       " 'feature_6',\n",
       " 'feature_101',\n",
       " 'feature_87',\n",
       " 'feature_150',\n",
       " 'feature_99',\n",
       " 'feature_140',\n",
       " 'feature_164',\n",
       " 'feature_57',\n",
       " 'feature_174',\n",
       " 'feature_12',\n",
       " 'feature_118',\n",
       " 'feature_17',\n",
       " 'feature_0',\n",
       " 'feature_52',\n",
       " 'feature_138',\n",
       " 'feature_126',\n",
       " 'feature_153',\n",
       " 'feature_104',\n",
       " 'feature_100',\n",
       " 'feature_110',\n",
       " 'feature_167',\n",
       " 'feature_172',\n",
       " 'feature_179',\n",
       " 'feature_113',\n",
       " 'feature_192',\n",
       " 'feature_13',\n",
       " 'feature_98',\n",
       " 'feature_26',\n",
       " 'feature_72',\n",
       " 'feature_35',\n",
       " 'feature_166',\n",
       " 'feature_22',\n",
       " 'feature_39',\n",
       " 'feature_195',\n",
       " 'feature_143',\n",
       " 'feature_188',\n",
       " 'feature_199',\n",
       " 'feature_18',\n",
       " 'feature_163',\n",
       " 'feature_122',\n",
       " 'feature_16',\n",
       " 'feature_80',\n",
       " 'feature_125',\n",
       " 'feature_96',\n",
       " 'feature_141',\n",
       " 'feature_23',\n",
       " 'feature_177',\n",
       " 'feature_193',\n",
       " 'feature_77',\n",
       " 'feature_9',\n",
       " 'feature_50',\n",
       " 'feature_88',\n",
       " 'feature_151',\n",
       " 'feature_91',\n",
       " 'feature_103',\n",
       " 'feature_30',\n",
       " 'feature_31',\n",
       " 'feature_146',\n",
       " 'feature_120',\n",
       " 'feature_152',\n",
       " 'feature_194',\n",
       " 'feature_2',\n",
       " 'feature_197',\n",
       " 'feature_11',\n",
       " 'feature_14',\n",
       " 'feature_33',\n",
       " 'feature_34',\n",
       " 'feature_37',\n",
       " 'feature_40',\n",
       " 'feature_41',\n",
       " 'feature_44',\n",
       " 'feature_62',\n",
       " 'feature_73',\n",
       " 'feature_76',\n",
       " 'feature_106',\n",
       " 'feature_111',\n",
       " 'feature_114',\n",
       " 'feature_131',\n",
       " 'feature_132',\n",
       " 'feature_136',\n",
       " 'feature_165',\n",
       " 'feature_169',\n",
       " 'feature_173',\n",
       " 'feature_78',\n",
       " 'feature_79',\n",
       " 'feature_81',\n",
       " 'feature_82',\n",
       " 'feature_181',\n",
       " 'feature_184',\n",
       " 'feature_90',\n",
       " 'feature_191',\n",
       " 'feature_46',\n",
       " 'feature_121',\n",
       " 'feature_148',\n",
       " 'feature_56',\n",
       " 'feature_123',\n",
       " 'feature_8',\n",
       " 'feature_4',\n",
       " 'feature_186',\n",
       " 'feature_134',\n",
       " 'feature_183',\n",
       " 'feature_29',\n",
       " 'feature_7',\n",
       " 'feature_142',\n",
       " 'feature_107',\n",
       " 'feature_149',\n",
       " 'feature_51',\n",
       " 'feature_69',\n",
       " 'feature_105',\n",
       " 'feature_66',\n",
       " 'feature_89',\n",
       " 'feature_15',\n",
       " 'feature_84',\n",
       " 'feature_19',\n",
       " 'feature_116',\n",
       " 'feature_196',\n",
       " 'feature_94',\n",
       " 'feature_115',\n",
       " 'feature_175',\n",
       " 'feature_185',\n",
       " 'feature_45',\n",
       " 'feature_3',\n",
       " 'feature_157',\n",
       " 'feature_71',\n",
       " 'feature_68',\n",
       " 'feature_47',\n",
       " 'feature_180',\n",
       " 'feature_189',\n",
       " 'feature_20',\n",
       " 'feature_27',\n",
       " 'feature_70',\n",
       " 'feature_28',\n",
       " 'feature_176',\n",
       " 'feature_171',\n",
       " 'feature_159',\n",
       " 'feature_127',\n",
       " 'feature_108',\n",
       " 'feature_60',\n",
       " 'feature_182',\n",
       " 'feature_128',\n",
       " 'feature_145',\n",
       " 'feature_135',\n",
       " 'feature_119',\n",
       " 'feature_162',\n",
       " 'feature_59',\n",
       " 'feature_124',\n",
       " 'feature_144',\n",
       " 'feature_97',\n",
       " 'feature_147',\n",
       " 'feature_178',\n",
       " 'feature_64',\n",
       " 'feature_32',\n",
       " 'feature_48',\n",
       " 'feature_63',\n",
       " 'feature_133',\n",
       " 'feature_74',\n",
       " 'feature_49',\n",
       " 'feature_139',\n",
       " 'feature_21',\n",
       " 'feature_10',\n",
       " 'feature_92',\n",
       " 'feature_129',\n",
       " 'feature_158',\n",
       " 'feature_53',\n",
       " 'feature_38',\n",
       " 'feature_43',\n",
       " 'feature_24',\n",
       " 'feature_42',\n",
       " 'feature_109',\n",
       " 'feature_75']"
      ]
     },
     "execution_count": 3,
     "metadata": {},
     "output_type": "execute_result"
    }
   ],
   "source": [
    "selection_result['eliminated_features_names']"
   ]
  },
  {
   "cell_type": "code",
   "execution_count": 13,
   "metadata": {},
   "outputs": [
    {
     "data": {
      "text/plain": [
       "{'selected_features': [5],\n",
       " 'eliminated_features_names': ['feature_2',\n",
       "  'feature_0',\n",
       "  'feature_17',\n",
       "  'feature_7',\n",
       "  'feature_12',\n",
       "  'feature_16',\n",
       "  'feature_9',\n",
       "  'feature_10',\n",
       "  'feature_4',\n",
       "  'feature_19',\n",
       "  'feature_15',\n",
       "  'feature_3',\n",
       "  'feature_13',\n",
       "  'feature_8',\n",
       "  'feature_6',\n",
       "  'feature_11',\n",
       "  'feature_1',\n",
       "  'feature_18',\n",
       "  'feature_14'],\n",
       " 'loss_graph': {'main_indices': [0, 19],\n",
       "  'removed_features_count': [0,\n",
       "   1,\n",
       "   2,\n",
       "   3,\n",
       "   4,\n",
       "   5,\n",
       "   6,\n",
       "   7,\n",
       "   8,\n",
       "   9,\n",
       "   10,\n",
       "   11,\n",
       "   12,\n",
       "   13,\n",
       "   14,\n",
       "   15,\n",
       "   16,\n",
       "   17,\n",
       "   18,\n",
       "   19],\n",
       "  'loss_values': [0.31056066633856105,\n",
       "   0.3074371597153469,\n",
       "   0.30528464429112767,\n",
       "   0.3042679552350715,\n",
       "   0.3036305515502815,\n",
       "   0.3031348365080603,\n",
       "   0.3027531105623969,\n",
       "   0.3023984244543381,\n",
       "   0.30209025736759665,\n",
       "   0.3017936528260941,\n",
       "   0.301749755568006,\n",
       "   0.3018544545171838,\n",
       "   0.3022971969417077,\n",
       "   0.3032548203656553,\n",
       "   0.30489322251256,\n",
       "   0.3068329412330959,\n",
       "   0.3092999515057814,\n",
       "   0.3136742400348289,\n",
       "   0.33265393441478586,\n",
       "   0.37693910452158536]},\n",
       " 'eliminated_features': [2,\n",
       "  0,\n",
       "  17,\n",
       "  7,\n",
       "  12,\n",
       "  16,\n",
       "  9,\n",
       "  10,\n",
       "  4,\n",
       "  19,\n",
       "  15,\n",
       "  3,\n",
       "  13,\n",
       "  8,\n",
       "  6,\n",
       "  11,\n",
       "  1,\n",
       "  18,\n",
       "  14],\n",
       " 'selected_features_names': ['feature_5']}"
      ]
     },
     "execution_count": 13,
     "metadata": {},
     "output_type": "execute_result"
    }
   ],
   "source": [
    "selection_result"
   ]
  },
  {
   "cell_type": "code",
   "execution_count": 14,
   "metadata": {},
   "outputs": [
    {
     "data": {
      "text/plain": [
       "[0.5585323757748092,\n",
       " 0.5602828774532951,\n",
       " 0.5643037123454403,\n",
       " 0.5708025677210825,\n",
       " 0.5917253521173795,\n",
       " 0.6185598063645885]"
      ]
     },
     "execution_count": 14,
     "metadata": {},
     "output_type": "execute_result"
    }
   ],
   "source": [
    "summary['loss_graph']['loss_values']"
   ]
  },
  {
   "cell_type": "code",
   "execution_count": 15,
   "metadata": {},
   "outputs": [
    {
     "data": {
      "text/plain": [
       "{'main_indices': [0, 2, 3, 4, 5],\n",
       " 'removed_features_count': [0, 1, 2, 3, 4, 5],\n",
       " 'loss_values': [0.5585323757748092,\n",
       "  0.5602828774532951,\n",
       "  0.5643037123454403,\n",
       "  0.5708025677210825,\n",
       "  0.5917253521173795,\n",
       "  0.6185598063645885]}"
      ]
     },
     "execution_count": 15,
     "metadata": {},
     "output_type": "execute_result"
    }
   ],
   "source": [
    "summary['loss_graph']"
   ]
  },
  {
   "cell_type": "code",
   "execution_count": null,
   "metadata": {},
   "outputs": [],
   "source": []
  }
 ],
 "metadata": {
  "kernelspec": {
   "display_name": ".venv",
   "language": "python",
   "name": "python3"
  },
  "language_info": {
   "codemirror_mode": {
    "name": "ipython",
    "version": 3
   },
   "file_extension": ".py",
   "mimetype": "text/x-python",
   "name": "python",
   "nbconvert_exporter": "python",
   "pygments_lexer": "ipython3",
   "version": "3.11.4"
  }
 },
 "nbformat": 4,
 "nbformat_minor": 2
}
