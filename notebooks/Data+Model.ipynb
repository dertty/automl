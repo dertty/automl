{
 "cells": [
  {
   "cell_type": "markdown",
   "id": "7ee419fd-0036-4e95-b925-9cff1ec9904b",
   "metadata": {},
   "source": [
    "## This example contains sample script for feature processing and launching models "
   ]
  },
  {
   "cell_type": "code",
   "execution_count": 6,
   "id": "8ec103b6-8a2a-45d8-9a28-d6edc05330c9",
   "metadata": {},
   "outputs": [],
   "source": [
    "from sklearn.model_selection import train_test_split\n",
    "from sklearn.preprocessing import LabelEncoder\n",
    "\n",
    "import pandas as pd\n",
    "import numpy as np"
   ]
  },
  {
   "cell_type": "code",
   "execution_count": 7,
   "id": "ccad833c-831f-4dc3-9699-54ceb8559309",
   "metadata": {},
   "outputs": [],
   "source": [
    "RANDOM_STATE = 42\n",
    "N_JOBS = 5\n",
    "TARGET = \"satisfaction\""
   ]
  },
  {
   "cell_type": "markdown",
   "id": "02b4eaa5-0154-4f0f-ae3b-853e2e659c00",
   "metadata": {},
   "source": [
    "### Data"
   ]
  },
  {
   "cell_type": "code",
   "execution_count": 8,
   "id": "54a42b70-fe20-4e73-af2b-c436932983ef",
   "metadata": {},
   "outputs": [
    {
     "name": "stdout",
     "output_type": "stream",
     "text": [
      "<class 'pandas.core.frame.DataFrame'>\n",
      "Int64Index: 5000 entries, 80638 to 6423\n",
      "Data columns (total 25 columns):\n",
      " #   Column                             Non-Null Count  Dtype  \n",
      "---  ------                             --------------  -----  \n",
      " 0   id                                 5000 non-null   int64  \n",
      " 1   Gender                             5000 non-null   object \n",
      " 2   Customer Type                      5000 non-null   object \n",
      " 3   Age                                5000 non-null   int64  \n",
      " 4   Type of Travel                     5000 non-null   object \n",
      " 5   Class                              5000 non-null   object \n",
      " 6   Flight Distance                    5000 non-null   int64  \n",
      " 7   Inflight wifi service              5000 non-null   int64  \n",
      " 8   Departure/Arrival time convenient  5000 non-null   int64  \n",
      " 9   Ease of Online booking             5000 non-null   int64  \n",
      " 10  Gate location                      5000 non-null   int64  \n",
      " 11  Food and drink                     5000 non-null   int64  \n",
      " 12  Online boarding                    5000 non-null   int64  \n",
      " 13  Seat comfort                       5000 non-null   int64  \n",
      " 14  Inflight entertainment             5000 non-null   int64  \n",
      " 15  On-board service                   5000 non-null   int64  \n",
      " 16  Leg room service                   5000 non-null   int64  \n",
      " 17  Baggage handling                   5000 non-null   int64  \n",
      " 18  Checkin service                    5000 non-null   int64  \n",
      " 19  Inflight service                   5000 non-null   int64  \n",
      " 20  Cleanliness                        5000 non-null   int64  \n",
      " 21  Departure Delay in Minutes         5000 non-null   int64  \n",
      " 22  Arrival Delay in Minutes           4989 non-null   float64\n",
      " 23  satisfaction                       5000 non-null   object \n",
      " 24  cnst                               5000 non-null   int64  \n",
      "dtypes: float64(1), int64(19), object(5)\n",
      "memory usage: 1015.6+ KB\n"
     ]
    }
   ],
   "source": [
    "df = pd.read_csv(\"../data/airlines_train.csv\").drop(columns=\"Unnamed: 0\").sample(n=5_000, random_state=RANDOM_STATE).assign(cnst=1)\n",
    "df.info()\n",
    "X, y = df.drop(columns=TARGET), df[TARGET]\n",
    "y = LabelEncoder().fit_transform(y)\n",
    "\n",
    "X_train, X_test, y_train, y_test  = train_test_split(X, y, stratify=y, random_state=RANDOM_STATE, test_size=0.2)\n",
    "\n",
    "X_train = X_train.reset_index(drop=True)\n",
    "X_test = X_test.reset_index(drop=True)\n"
   ]
  },
  {
   "cell_type": "code",
   "execution_count": 9,
   "id": "e8fdd8f3-958d-4ba7-95e8-b60223894fff",
   "metadata": {},
   "outputs": [],
   "source": [
    "import sys; sys.path.append(\"../\"); sys.path.append(\"../src/\")\n",
    "\n",
    "from src.automl.feature_selection.pipe import PreprocessingPipeline, ValTestsPipeline"
   ]
  },
  {
   "cell_type": "code",
   "execution_count": 10,
   "id": "9037b926-4de1-439c-acad-9df40061c834",
   "metadata": {},
   "outputs": [
    {
     "name": "stdout",
     "output_type": "stream",
     "text": [
      "[2024-12-02 11:47:19,556] - [  PREPROC   ] - Успешно заданы шаги pipeline\n",
      "[2024-12-02 11:47:19,560] - [ VAL_TESTS  ] - Успешно заданы шаги pipeline\n"
     ]
    }
   ],
   "source": [
    "feat_pipe = PreprocessingPipeline(obj_encoders=[\"ohe\", \"oe\"])\n",
    "val_test_pipe = ValTestsPipeline()"
   ]
  },
  {
   "cell_type": "markdown",
   "id": "7ef386a2-9087-491c-98c1-449332c5476a",
   "metadata": {},
   "source": [
    "#### Feature pipeline"
   ]
  },
  {
   "cell_type": "code",
   "execution_count": 11,
   "id": "043ceefa-b632-4ba6-ba2b-688d78aa0741",
   "metadata": {},
   "outputs": [
    {
     "name": "stdout",
     "output_type": "stream",
     "text": [
      "Initial train data shape (4000, 24)\n",
      "[2024-12-02 11:47:20,478] - [Pipeline] .. (step 1 of 6) Processing nan_cols_dropper, total=   0.0\n",
      "[2024-12-02 11:47:20,509] - [Pipeline] ....... (step 2 of 6) Processing nan_imputer, total=   0.0\n",
      "[2024-12-02 11:47:20,533] - [  PREPROC   ] - Corr features to drop: ['Departure Delay in Minutes']\n",
      "[2024-12-02 11:47:20,534] - [Pipeline] . (step 3 of 6) Processing corr_cols_dropper, total=   0.0\n",
      "[2024-12-02 11:47:20,542] - [  PREPROC   ] - QConstant features to drop: ['cnst']\n",
      "[2024-12-02 11:47:20,546] - [Pipeline] .... (step 4 of 6) Processing qconst_dropper, total=   0.0\n",
      "[2024-12-02 11:47:20,562] - [Pipeline] .... (step 5 of 6) Processing outlier_capper, total=   0.0\n",
      "[2024-12-02 11:47:20,573] - [Pipeline] ... (step 6 of 6) Processing feature_encoder, total=   0.0\n",
      "Train data shape after pipeline (4000, 23)\n"
     ]
    }
   ],
   "source": [
    "print(\"Initial train data shape\", X_train.shape)\n",
    "X_train = feat_pipe.fit_transform(X_train, y_train)\n",
    "print(\"Train data shape after pipeline\", X_train.shape)\n",
    "X_test = feat_pipe.transform(X_test)"
   ]
  },
  {
   "cell_type": "code",
   "execution_count": 12,
   "id": "1b6babf1-9c73-4b86-b883-80d91a7bcb52",
   "metadata": {},
   "outputs": [
    {
     "name": "stdout",
     "output_type": "stream",
     "text": [
      "<class 'pandas.core.frame.DataFrame'>\n",
      "RangeIndex: 4000 entries, 0 to 3999\n",
      "Data columns (total 23 columns):\n",
      " #   Column                                             Non-Null Count  Dtype  \n",
      "---  ------                                             --------------  -----  \n",
      " 0   OneHotEncoder__Gender_Male                         4000 non-null   int16  \n",
      " 1   OneHotEncoder__Customer Type_disloyal Customer     4000 non-null   int16  \n",
      " 2   OneHotEncoder__Type of Travel_Personal Travel      4000 non-null   int16  \n",
      " 3   OneHotEncoder__Class_Eco                           4000 non-null   int16  \n",
      " 4   OneHotEncoder__Class_Eco Plus                      4000 non-null   int16  \n",
      " 5   StandardScaler__id                                 4000 non-null   float64\n",
      " 6   StandardScaler__Age                                4000 non-null   float64\n",
      " 7   StandardScaler__Flight Distance                    4000 non-null   float64\n",
      " 8   StandardScaler__Inflight wifi service              4000 non-null   float64\n",
      " 9   StandardScaler__Departure/Arrival time convenient  4000 non-null   float64\n",
      " 10  StandardScaler__Ease of Online booking             4000 non-null   float64\n",
      " 11  StandardScaler__Gate location                      4000 non-null   float64\n",
      " 12  StandardScaler__Food and drink                     4000 non-null   float64\n",
      " 13  StandardScaler__Online boarding                    4000 non-null   float64\n",
      " 14  StandardScaler__Seat comfort                       4000 non-null   float64\n",
      " 15  StandardScaler__Inflight entertainment             4000 non-null   float64\n",
      " 16  StandardScaler__On-board service                   4000 non-null   float64\n",
      " 17  StandardScaler__Leg room service                   4000 non-null   float64\n",
      " 18  StandardScaler__Baggage handling                   4000 non-null   float64\n",
      " 19  StandardScaler__Checkin service                    4000 non-null   float64\n",
      " 20  StandardScaler__Inflight service                   4000 non-null   float64\n",
      " 21  StandardScaler__Cleanliness                        4000 non-null   float64\n",
      " 22  StandardScaler__Arrival Delay in Minutes           4000 non-null   float64\n",
      "dtypes: float64(18), int16(5)\n",
      "memory usage: 601.7 KB\n"
     ]
    }
   ],
   "source": [
    "X_train.info()"
   ]
  },
  {
   "cell_type": "markdown",
   "id": "365259ae-17b6-44cc-84da-0e244ae78b10",
   "metadata": {},
   "source": [
    "#### ValTest pipeline"
   ]
  },
  {
   "cell_type": "code",
   "execution_count": 13,
   "id": "c974e198-0f45-41b5-8f10-3c1a9411611b",
   "metadata": {},
   "outputs": [],
   "source": [
    "## adding evidently shifted by distribution feature\n",
    "X_train[\"bad_feature\"] = np.random.uniform(0, 10, size=X_train.shape[0])\n",
    "X_test[\"bad_feature\"] = np.random.uniform(5, 15, size=X_test.shape[0])"
   ]
  },
  {
   "cell_type": "code",
   "execution_count": 14,
   "id": "cdc72841-f88f-4bd7-bab3-587587f54eea",
   "metadata": {},
   "outputs": [
    {
     "name": "stdout",
     "output_type": "stream",
     "text": [
      "Initial train data shape (4000, 24)\n",
      "[2024-12-02 11:47:26,545] - [  PREPROC   ] - Features not passing psi test to drop: ['bad_feature']\n",
      "[2024-12-02 11:47:26,546] - [Pipeline] .......... (step 1 of 2) Processing PSI_test, total=   0.2\n",
      "[2024-12-02 11:47:26,646] - [Pipeline] .. (step 2 of 2) Processing Adversarial_test, total=   0.1\n",
      "Train data shape after pipeline (4000, 23)\n"
     ]
    }
   ],
   "source": [
    "print(\"Initial train data shape\", X_train.shape)\n",
    "X_train = val_test_pipe.fit_transform(X_train, X_test)\n",
    "print(\"Train data shape after pipeline\", X_train.shape)\n",
    "X_test = val_test_pipe.transform(X_test)"
   ]
  },
  {
   "cell_type": "code",
   "execution_count": 15,
   "id": "ddc0f234-f755-4957-985e-b62fafcdf63e",
   "metadata": {},
   "outputs": [],
   "source": [
    "cat_features = X_train.columns[(X_train.columns.str.startswith(\"OneHotEncoder\")) | (X_train.columns.str.startswith(\"OrdinalEncoder\"))].tolist()"
   ]
  },
  {
   "cell_type": "code",
   "execution_count": 16,
   "id": "11eb84d7-d1a1-4cce-811e-0945bbd6b394",
   "metadata": {},
   "outputs": [
    {
     "data": {
      "text/plain": [
       "['OneHotEncoder__Gender_Male',\n",
       " 'OneHotEncoder__Customer Type_disloyal Customer',\n",
       " 'OneHotEncoder__Type of Travel_Personal Travel',\n",
       " 'OneHotEncoder__Class_Eco',\n",
       " 'OneHotEncoder__Class_Eco Plus']"
      ]
     },
     "execution_count": 16,
     "metadata": {},
     "output_type": "execute_result"
    }
   ],
   "source": [
    "cat_features"
   ]
  },
  {
   "cell_type": "markdown",
   "id": "5c016435-bc58-452e-a373-89a49e6f4aaa",
   "metadata": {},
   "source": [
    "### Model"
   ]
  },
  {
   "cell_type": "code",
   "execution_count": 17,
   "id": "5df826c9-c236-4818-961a-c5ef19937f93",
   "metadata": {},
   "outputs": [],
   "source": [
    "from src.automl.model import AutoML"
   ]
  },
  {
   "cell_type": "code",
   "execution_count": 18,
   "id": "c8822ae4-d358-471f-b1ad-2e3ba0929697",
   "metadata": {},
   "outputs": [],
   "source": [
    "TUNING_TIMEOUT = 60 # time for tuning each model\n",
    "TASK = \"classification\" # one of [\"regression\", \"classification\"]\n",
    "METRIC = \"roc_auc\" # either sklearn metirc or a custom metric\n",
    "STACK = True # whether to perform stacking\n",
    "BLEND = True # whether to perform blending"
   ]
  },
  {
   "cell_type": "code",
   "execution_count": 19,
   "id": "0285da8c-b2d0-4d66-9fb5-223162d76893",
   "metadata": {},
   "outputs": [],
   "source": [
    "model = AutoML(\n",
    "    task=TASK,\n",
    "    metric=METRIC,\n",
    "    n_jobs=N_JOBS,\n",
    "    tuning_timeout=TUNING_TIMEOUT,\n",
    "    stack=STACK,\n",
    "    blend=BLEND\n",
    ")"
   ]
  },
  {
   "cell_type": "code",
   "execution_count": 20,
   "id": "f8357fb2-ec89-4c95-adc0-c0e501786184",
   "metadata": {},
   "outputs": [
    {
     "name": "stdout",
     "output_type": "stream",
     "text": [
      "[2024-12-02 11:47:35,259] - [   MODEL    ] - 1 out of 9. LogisticRegression\n",
      "[2024-12-02 11:47:35,262] - [   START    ] - Working with LogisticRegression\n",
      "[2024-12-02 11:47:35,265] - [   START    ] - Tuning LogisticRegression\n",
      "[2024-12-02 11:47:36,048] - [   PARAMS   ] - C=2.782559402207126, metric=0.9149724126682101\n",
      "[2024-12-02 11:47:36,048] - [BEST PARAMS ] - {'C': 2.782559402207126, 'class_weight': 'balanced', 'max_iter': 1000, 'n_jobs': 5, 'random_state': 42, 'time_series': False}\n",
      "[2024-12-02 11:47:36,049] - [    END     ] - Tuning LogisticRegression\n",
      "[2024-12-02 11:47:36,049] - [   START    ] - Fitting LogisticRegression\n",
      "[2024-12-02 11:47:36,050] - [    FIT     ] - LogisticRegression fold 0\n",
      "[2024-12-02 11:47:36,059] - [    FIT     ] - LogisticRegression fold 1\n",
      "[2024-12-02 11:47:36,079] - [    FIT     ] - LogisticRegression fold 2\n",
      "[2024-12-02 11:47:36,090] - [    FIT     ] - LogisticRegression fold 3\n",
      "[2024-12-02 11:47:36,101] - [    FIT     ] - LogisticRegression fold 4\n",
      "[2024-12-02 11:47:36,109] - [    END     ] - Fitting LogisticRegression\n",
      "[2024-12-02 11:47:36,119] - [   SCORE    ] - Train: 0.9183436105654629\n",
      "[2024-12-02 11:47:36,121] - [   SCORE    ] - OOF: 0.9147638425683047\n",
      "[2024-12-02 11:47:36,123] - [   SCORE    ] - Test: 0.9273686815215055\n",
      "[2024-12-02 11:47:36,123] - [   SCORE    ] - Overfit: 0.98 %\n",
      "[2024-12-02 11:47:36,124] - [    END     ] - Working with LogisticRegression\n",
      "[2024-12-02 11:47:36,124] - [  NEW BEST  ] - LogisticRegression. Best score: 0.9273686815215055 \n",
      "\n",
      "[2024-12-02 11:47:36,124] - [   MODEL    ] - 2 out of 9. RandomForestClassification\n",
      "[2024-12-02 11:47:36,125] - [   START    ] - Working with RandomForestClassification\n",
      "[2024-12-02 11:47:36,125] - [   START    ] - Tuning RandomForestClassification\n",
      "[2024-12-02 11:47:37,650] - [   OPTUNA   ] - Trial 0. New best score 0.9199522712588972 with parameters {'n_estimators': 387, 'max_depth': 15, 'min_samples_split': 0.146398788362281, 'min_samples_leaf': 0.11973169683940732, 'max_features': 0.24041677639819287, 'criterion': 'log_loss', 'class_weight': 'balanced_subsample', 'oob_score': False, 'max_samples': 0.8341182143924175}\n",
      "[2024-12-02 11:47:40,193] - [   OPTUNA   ] - Trial 2. New best score 0.9506058827160031 with parameters {'n_estimators': 215, 'max_depth': 9, 'min_samples_split': 0.1184829137724085, 'min_samples_leaf': 0.009290082543999545, 'max_features': 0.6467903667112945, 'criterion': 'log_loss', 'class_weight': 'balanced', 'oob_score': True, 'max_samples': 0.6873906962470353}\n",
      "[2024-12-02 11:47:58,856] - [   OPTUNA   ] - Trial 11. New best score 0.9619545426275563 with parameters {'n_estimators': 561, 'max_depth': 8, 'min_samples_split': 0.07121824466699872, 'min_samples_leaf': 0.004689401807340943, 'max_features': 0.7827408179970072, 'criterion': 'entropy', 'class_weight': 'balanced_subsample', 'oob_score': False, 'max_samples': 0.6405508745066752}\n",
      "[2024-12-02 11:48:27,281] - [   OPTUNA   ] - Trial 23. New best score 0.9646802944061694 with parameters {'n_estimators': 341, 'max_depth': 9, 'min_samples_split': 0.05428569607614435, 'min_samples_leaf': 0.003662439618102281, 'max_features': 0.8799262069848762, 'criterion': 'entropy', 'class_weight': 'balanced_subsample', 'oob_score': False, 'max_samples': 0.5525319434785305}\n",
      "[2024-12-02 11:48:31,248] - [   OPTUNA   ] - Trial 26. New best score 0.9764270052723576 with parameters {'n_estimators': 329, 'max_depth': 7, 'min_samples_split': 0.02404242148537713, 'min_samples_leaf': 0.0004948167572839499, 'max_features': 0.681896107808822, 'criterion': 'entropy', 'class_weight': 'balanced', 'oob_score': False, 'max_samples': 0.4650009570278092}\n",
      "[2024-12-02 11:48:37,274] - [   OPTUNA   ] - 31 trials completed\n",
      "[2024-12-02 11:48:37,274] - [BEST PARAMS ] - {'n_estimators': 329, 'criterion': 'entropy', 'max_depth': 7, 'min_samples_split': 0.02404242148537713, 'min_samples_leaf': 0.0004948167572839499, 'max_features': 0.681896107808822, 'bootstrap': True, 'oob_score': False, 'max_samples': 0.4650009570278092, 'class_weight': 'balanced', 'n_jobs': 5, 'random_state': 42, 'verbose': 0, 'time_series': False}\n",
      "[2024-12-02 11:48:37,275] - [    END     ] - Tuning RandomForestClassification\n",
      "[2024-12-02 11:48:37,275] - [   START    ] - Fitting RandomForestClassification\n",
      "[2024-12-02 11:48:37,277] - [    FIT     ] - RandomForestClassification fold 0\n",
      "[2024-12-02 11:48:37,784] - [    FIT     ] - RandomForestClassification fold 1\n",
      "[2024-12-02 11:48:38,280] - [    FIT     ] - RandomForestClassification fold 2\n",
      "[2024-12-02 11:48:38,773] - [    FIT     ] - RandomForestClassification fold 3\n",
      "[2024-12-02 11:48:39,272] - [    FIT     ] - RandomForestClassification fold 4\n",
      "[2024-12-02 11:48:39,776] - [    END     ] - Fitting RandomForestClassification\n",
      "[2024-12-02 11:48:40,072] - [   SCORE    ] - Train: 0.9808544027368311\n",
      "[2024-12-02 11:48:40,074] - [   SCORE    ] - OOF: 0.9763324036957973\n",
      "[2024-12-02 11:48:40,317] - [   SCORE    ] - Test: 0.9802530433759671\n",
      "[2024-12-02 11:48:40,317] - [   SCORE    ] - Overfit: 0.06 %\n",
      "[2024-12-02 11:48:40,318] - [    END     ] - Working with RandomForestClassification\n",
      "[2024-12-02 11:48:40,318] - [  NEW BEST  ] - RandomForestClassification. Best score: 0.9802530433759671 \n",
      "\n",
      "[2024-12-02 11:48:40,319] - [   MODEL    ] - 3 out of 9. ExtraTreesClassification\n",
      "[2024-12-02 11:48:40,319] - [   START    ] - Working with ExtraTreesClassification\n",
      "[2024-12-02 11:48:40,319] - [   START    ] - Tuning ExtraTreesClassification\n",
      "[2024-12-02 11:48:41,661] - [   OPTUNA   ] - Trial 0. New best score 0.8943495930909571 with parameters {'n_estimators': 387, 'max_depth': 15, 'min_samples_split': 0.146398788362281, 'min_samples_leaf': 0.11973169683940732, 'max_features': 0.24041677639819287, 'criterion': 'log_loss', 'class_weight': 'balanced_subsample', 'oob_score': False, 'max_samples': 0.8341182143924175}\n",
      "[2024-12-02 11:48:42,627] - [   OPTUNA   ] - Trial 1. New best score 0.9192945726884603 with parameters {'n_estimators': 228, 'max_depth': 4, 'min_samples_split': 0.03668090197068676, 'min_samples_leaf': 0.06084844859190755, 'max_features': 0.5722807884690141, 'criterion': 'log_loss', 'class_weight': 'balanced_subsample', 'oob_score': False, 'max_samples': 0.7873242017790835}\n",
      "[2024-12-02 11:48:43,760] - [   OPTUNA   ] - Trial 2. New best score 0.9405897373120711 with parameters {'n_estimators': 215, 'max_depth': 9, 'min_samples_split': 0.1184829137724085, 'min_samples_leaf': 0.009290082543999545, 'max_features': 0.6467903667112945, 'criterion': 'log_loss', 'class_weight': 'balanced', 'oob_score': True, 'max_samples': 0.6873906962470353}\n",
      "[2024-12-02 11:48:45,476] - [   OPTUNA   ] - Trial 3. New best score 0.9470134350632916 with parameters {'n_estimators': 451, 'max_depth': 3, 'min_samples_split': 0.09903538202225404, 'min_samples_leaf': 0.006877704223043679, 'max_features': 0.9183883618709039, 'criterion': 'entropy', 'class_weight': 'balanced_subsample', 'oob_score': False, 'max_samples': 0.7773814951275034}\n",
      "[2024-12-02 11:49:00,525] - [   OPTUNA   ] - Trial 11. New best score 0.9599954218455837 with parameters {'n_estimators': 32, 'max_depth': 10, 'min_samples_split': 0.07121824466699872, 'min_samples_leaf': 0.004689401807340943, 'max_features': 0.7134393876140748, 'criterion': 'entropy', 'class_weight': 'balanced_subsample', 'oob_score': True, 'max_samples': 0.6405508745066752}\n",
      "[2024-12-02 11:49:00,964] - [   OPTUNA   ] - Trial 13. New best score 0.96649074325621 with parameters {'n_estimators': 36, 'max_depth': 7, 'min_samples_split': 0.054273833433723856, 'min_samples_leaf': 0.0003893728893889538, 'max_features': 0.8460708041987088, 'criterion': 'entropy', 'class_weight': 'balanced_subsample', 'oob_score': False, 'max_samples': 0.36629114865941276}\n",
      "[2024-12-02 11:49:06,298] - [   OPTUNA   ] - Trial 18. New best score 0.978772593128825 with parameters {'n_estimators': 736, 'max_depth': 8, 'min_samples_split': 0.020097467198428025, 'min_samples_leaf': 7.804930399116401e-05, 'max_features': 0.6982270461963013, 'criterion': 'entropy', 'class_weight': 'balanced_subsample', 'oob_score': False, 'max_samples': 0.5724800915555452}\n",
      "[2024-12-02 11:49:42,444] - [   OPTUNA   ] - 34 trials completed\n",
      "[2024-12-02 11:49:42,444] - [BEST PARAMS ] - {'n_estimators': 736, 'criterion': 'entropy', 'max_depth': 8, 'min_samples_split': 0.020097467198428025, 'min_samples_leaf': 7.804930399116401e-05, 'max_features': 0.6982270461963013, 'bootstrap': True, 'oob_score': False, 'max_samples': 0.5724800915555452, 'class_weight': 'balanced_subsample', 'n_jobs': 5, 'random_state': 42, 'verbose': 0, 'time_series': False}\n",
      "[2024-12-02 11:49:42,445] - [    END     ] - Tuning ExtraTreesClassification\n",
      "[2024-12-02 11:49:42,445] - [   START    ] - Fitting ExtraTreesClassification\n",
      "[2024-12-02 11:49:42,447] - [    FIT     ] - ExtraTreesClassification fold 0\n",
      "[2024-12-02 11:49:44,054] - [    FIT     ] - ExtraTreesClassification fold 1\n",
      "[2024-12-02 11:49:45,674] - [    FIT     ] - ExtraTreesClassification fold 2\n",
      "[2024-12-02 11:49:47,293] - [    FIT     ] - ExtraTreesClassification fold 3\n",
      "[2024-12-02 11:49:48,910] - [    FIT     ] - ExtraTreesClassification fold 4\n",
      "[2024-12-02 11:49:50,526] - [    END     ] - Fitting ExtraTreesClassification\n",
      "[2024-12-02 11:49:51,114] - [   SCORE    ] - Train: 0.9824718655540766\n",
      "[2024-12-02 11:49:51,115] - [   SCORE    ] - OOF: 0.9785728648108907\n",
      "[2024-12-02 11:49:51,654] - [   SCORE    ] - Test: 0.9823745837034874\n",
      "[2024-12-02 11:49:51,655] - [   SCORE    ] - Overfit: 0.01 %\n",
      "[2024-12-02 11:49:51,656] - [    END     ] - Working with ExtraTreesClassification\n",
      "[2024-12-02 11:49:51,656] - [  NEW BEST  ] - ExtraTreesClassification. Best score: 0.9823745837034874 \n",
      "\n",
      "[2024-12-02 11:49:51,657] - [   MODEL    ] - 4 out of 9. CatBoostClassification\n",
      "[2024-12-02 11:49:51,657] - [   START    ] - Working with CatBoostClassification\n",
      "[2024-12-02 11:49:51,657] - [   START    ] - Tuning CatBoostClassification\n",
      "[2024-12-02 11:50:06,521] - [   OPTUNA   ] - Trial 0. New best score 0.98846071243925 with parameters {'boosting_type': 'Plain', 'depth': 6, 'l2_leaf_reg': 190.14286128198324, 'bootstrap_type': 'Bernoulli', 'grow_policy': 'SymmetricTree', 'min_data_in_leaf': 222, 'rsm': 0.7606690070459252, 'subsample': 0.8248435466776274, 'model_size_reg': 4.116898859160489, 'auto_class_weights': None, 'iterations': 1656}\n",
      "[2024-12-02 11:50:31,589] - [   OPTUNA   ] - Trial 3. New best score 0.9888073297258427 with parameters {'boosting_type': 'Plain', 'depth': 15, 'l2_leaf_reg': 51.75599632000338, 'bootstrap_type': 'Bernoulli', 'grow_policy': 'Depthwise', 'min_data_in_leaf': 249, 'rsm': 0.8650796940166687, 'subsample': 0.9636993649385135, 'model_size_reg': 178.96547008552977, 'auto_class_weights': 'Balanced', 'iterations': 568}\n",
      "[2024-12-02 11:50:56,440] - [   OPTUNA   ] - 8 trials completed\n",
      "[2024-12-02 11:50:56,441] - [BEST PARAMS ] - {'boosting_type': 'Plain', 'max_leaves': None, 'grow_policy': 'Depthwise', 'depth': 15, 'l2_leaf_reg': 51.75599632000338, 'model_size_reg': 178.96547008552977, 'bootstrap_type': 'Bernoulli', 'rsm': 0.8650796940166687, 'subsample': 0.9636993649385135, 'min_data_in_leaf': 249, 'auto_class_weights': 'Balanced', 'iterations': 568, 'one_hot_max_size': 10, 'learning_rate': 0.03, 'random_state': 42, 'thread_count': 5, 'verbose': False, 'allow_writing_files': False, 'od_type': 'Iter', 'od_wait': 100, 'od_pval': 0, 'eval_metric': 'AUC', 'time_series': False}\n",
      "[2024-12-02 11:50:56,441] - [    END     ] - Tuning CatBoostClassification\n",
      "[2024-12-02 11:50:56,442] - [   START    ] - Fitting CatBoostClassification\n",
      "[2024-12-02 11:50:56,443] - [    FIT     ] - CatBoostClassification fold 0\n",
      "[2024-12-02 11:50:57,793] - [    FIT     ] - CatBoostClassification fold 1\n",
      "[2024-12-02 11:50:59,105] - [    FIT     ] - CatBoostClassification fold 2\n",
      "[2024-12-02 11:51:00,296] - [    FIT     ] - CatBoostClassification fold 3\n",
      "[2024-12-02 11:51:01,574] - [    FIT     ] - CatBoostClassification fold 4\n",
      "[2024-12-02 11:51:02,965] - [    END     ] - Fitting CatBoostClassification\n",
      "[2024-12-02 11:51:03,032] - [   SCORE    ] - Train: 0.999259349601948\n",
      "[2024-12-02 11:51:03,034] - [   SCORE    ] - OOF: 0.9889843149972705\n",
      "[2024-12-02 11:51:03,057] - [   SCORE    ] - Test: 0.9921304240241118\n",
      "[2024-12-02 11:51:03,057] - [   SCORE    ] - Overfit: 0.71 %\n",
      "[2024-12-02 11:51:03,058] - [    END     ] - Working with CatBoostClassification\n",
      "[2024-12-02 11:51:03,059] - [  NEW BEST  ] - CatBoostClassification. Best score: 0.9921304240241118 \n",
      "\n",
      "[2024-12-02 11:51:03,059] - [   MODEL    ] - 5 out of 9. LightGBMClassification\n",
      "[2024-12-02 11:51:03,060] - [   START    ] - Working with LightGBMClassification\n",
      "[2024-12-02 11:51:03,060] - [   START    ] - Tuning LightGBMClassification\n",
      "[2024-12-02 11:51:03,409] - [   OPTUNA   ] - Trial 0. New best score 0.9696685785978152 with parameters {'max_depth': 6, 'num_leaves': 488, 'min_data_in_leaf': 188, 'bagging_fraction': 0.7993292420985183, 'bagging_freq': 0, 'feature_fraction': 0.49359671220172163, 'lambda_l1': 0.5808361216819946, 'lambda_l2': 8.661761457749352, 'min_gain_to_split': 12.022300234864176, 'is_unbalance': True, 'num_iterations': 203}\n",
      "[2024-12-02 11:51:03,796] - [   OPTUNA   ] - Trial 1. New best score 0.9797454556242394 with parameters {'max_depth': 16, 'num_leaves': 428, 'min_data_in_leaf': 55, 'bagging_fraction': 0.5909124836035503, 'bagging_freq': 0, 'feature_fraction': 0.5825453457757226, 'lambda_l1': 5.247564316322379, 'lambda_l2': 4.319450186421157, 'min_gain_to_split': 5.824582803960839, 'is_unbalance': True, 'num_iterations': 181}\n",
      "[2024-12-02 11:51:07,281] - [   OPTUNA   ] - Trial 11. New best score 0.982142997506739 with parameters {'max_depth': 10, 'num_leaves': 160, 'min_data_in_leaf': 98, 'bagging_fraction': 0.646119232750993, 'bagging_freq': 0, 'feature_fraction': 0.7717203658801595, 'lambda_l1': 5.732909776512289, 'lambda_l2': 0.06891516436167516, 'min_gain_to_split': 2.913078862832787, 'is_unbalance': True, 'num_iterations': 158}\n",
      "[2024-12-02 11:51:08,909] - [   OPTUNA   ] - Trial 13. New best score 0.9845921389633583 with parameters {'max_depth': 10, 'num_leaves': 117, 'min_data_in_leaf': 110, 'bagging_fraction': 0.6765827643791059, 'bagging_freq': 5, 'feature_fraction': 0.8660959434063978, 'lambda_l1': 3.6388501876674404, 'lambda_l2': 2.136376855689175, 'min_gain_to_split': 0.33511276093050557, 'is_unbalance': True, 'num_iterations': 475}\n",
      "[2024-12-02 11:51:10,657] - [   OPTUNA   ] - Trial 15. New best score 0.9851976415825121 with parameters {'max_depth': 8, 'num_leaves': 119, 'min_data_in_leaf': 127, 'bagging_fraction': 0.7292417975814334, 'bagging_freq': 5, 'feature_fraction': 0.847392170384639, 'lambda_l1': 2.964130094294518, 'lambda_l2': 1.8317713983318937, 'min_gain_to_split': 0.05977371752501259, 'is_unbalance': True, 'num_iterations': 502}\n",
      "[2024-12-02 11:51:15,822] - [   OPTUNA   ] - Trial 22. New best score 0.9860990493761016 with parameters {'max_depth': 7, 'num_leaves': 216, 'min_data_in_leaf': 111, 'bagging_fraction': 0.7267963465202555, 'bagging_freq': 5, 'feature_fraction': 0.9042691144914234, 'lambda_l1': 1.766047654003681, 'lambda_l2': 3.069009624725318, 'min_gain_to_split': 0.11784296907181852, 'is_unbalance': True, 'num_iterations': 507}\n",
      "[2024-12-02 11:51:18,263] - [   OPTUNA   ] - Trial 26. New best score 0.9868566883317262 with parameters {'max_depth': 12, 'num_leaves': 316, 'min_data_in_leaf': 119, 'bagging_fraction': 0.680312494609134, 'bagging_freq': 0, 'feature_fraction': 0.7576867040728291, 'lambda_l1': 2.0519500575393748, 'lambda_l2': 2.6471719980467894, 'min_gain_to_split': 0.24060450528172234, 'is_unbalance': False, 'num_iterations': 291}\n",
      "[2024-12-02 11:51:19,696] - [   OPTUNA   ] - Trial 28. New best score 0.9870050212597854 with parameters {'max_depth': 12, 'num_leaves': 302, 'min_data_in_leaf': 130, 'bagging_fraction': 0.830582252493724, 'bagging_freq': 0, 'feature_fraction': 0.6901482878335538, 'lambda_l1': 1.2310934175206736, 'lambda_l2': 2.9242671898546186, 'min_gain_to_split': 0.1564978462217549, 'is_unbalance': False, 'num_iterations': 362}\n",
      "[2024-12-02 11:51:21,853] - [   OPTUNA   ] - Trial 31. New best score 0.9873747125574094 with parameters {'max_depth': 9, 'num_leaves': 301, 'min_data_in_leaf': 132, 'bagging_fraction': 0.7922287095621834, 'bagging_freq': 0, 'feature_fraction': 0.7763314237148877, 'lambda_l1': 1.2348735779131623, 'lambda_l2': 3.6787256863094155, 'min_gain_to_split': 0.038701228678146876, 'is_unbalance': False, 'num_iterations': 454}\n",
      "[2024-12-02 11:51:29,089] - [   OPTUNA   ] - Trial 43. New best score 0.9877816772574687 with parameters {'max_depth': 5, 'num_leaves': 235, 'min_data_in_leaf': 110, 'bagging_fraction': 0.8072061306050863, 'bagging_freq': 0, 'feature_fraction': 0.718418813409929, 'lambda_l1': 0.3922045005541177, 'lambda_l2': 2.6239743266471796, 'min_gain_to_split': 0.07470745806730011, 'is_unbalance': False, 'num_iterations': 610}\n",
      "[2024-12-02 11:51:48,450] - [   OPTUNA   ] - Trial 67. New best score 0.989608834658483 with parameters {'max_depth': 15, 'num_leaves': 356, 'min_data_in_leaf': 66, 'bagging_fraction': 0.7629083845157487, 'bagging_freq': 0, 'feature_fraction': 0.7262283391714782, 'lambda_l1': 1.6389874380500844, 'lambda_l2': 2.1910374602285114, 'min_gain_to_split': 0.003781810479450254, 'is_unbalance': False, 'num_iterations': 457}\n",
      "[2024-12-02 11:52:03,878] - [   OPTUNA   ] - 88 trials completed\n",
      "[2024-12-02 11:52:03,879] - [BEST PARAMS ] - {'max_depth': 15, 'num_leaves': 356, 'min_data_in_leaf': 66, 'bagging_fraction': 0.7629083845157487, 'bagging_freq': 0, 'feature_fraction': 0.7262283391714782, 'lambda_l1': 1.6389874380500844, 'lambda_l2': 2.1910374602285114, 'min_gain_to_split': 0.003781810479450254, 'is_unbalance': False, 'class_weight': None, 'num_iterations': 457, 'boosting': 'gbdt', 'learning_rate': 0.03, 'early_stopping_round': 100, 'n_jobs': 5, 'random_state': 42, 'verbose': -1, 'eval_metric': 'auc', 'time_series': False}\n",
      "[2024-12-02 11:52:03,880] - [    END     ] - Tuning LightGBMClassification\n",
      "[2024-12-02 11:52:03,880] - [   START    ] - Fitting LightGBMClassification\n",
      "[2024-12-02 11:52:03,883] - [    FIT     ] - LightGBMClassification fold 0\n",
      "[2024-12-02 11:52:04,220] - [    FIT     ] - LightGBMClassification fold 1\n",
      "[2024-12-02 11:52:04,444] - [    FIT     ] - LightGBMClassification fold 2\n",
      "[2024-12-02 11:52:04,747] - [    FIT     ] - LightGBMClassification fold 3\n",
      "[2024-12-02 11:52:05,054] - [    FIT     ] - LightGBMClassification fold 4\n",
      "[2024-12-02 11:52:05,358] - [    END     ] - Fitting LightGBMClassification\n",
      "[2024-12-02 11:52:05,489] - [   SCORE    ] - Train: 0.9981533184358051\n",
      "[2024-12-02 11:52:05,491] - [   SCORE    ] - OOF: 0.9895216098255732\n",
      "[2024-12-02 11:52:05,533] - [   SCORE    ] - Test: 0.9917126063305465\n",
      "[2024-12-02 11:52:05,534] - [   SCORE    ] - Overfit: 0.65 %\n",
      "[2024-12-02 11:52:05,536] - [    END     ] - Working with LightGBMClassification\n",
      "[2024-12-02 11:52:05,536] - [BEST  MODEL ] - CatBoostClassification. Best score: 0.9921304240241118 \n",
      "\n",
      "[2024-12-02 11:52:05,536] - [   MODEL    ] - 6 out of 9. XGBClassification\n",
      "[2024-12-02 11:52:05,537] - [   START    ] - Working with XGBClassification\n",
      "[2024-12-02 11:52:05,537] - [   START    ] - Tuning XGBClassification\n",
      "[2024-12-02 11:52:07,960] - [   OPTUNA   ] - Trial 0. New best score 0.9582413648049322 with parameters {'max_depth': 6, 'grow_policy': 'depthwise', 'max_leaves': 311, 'gamma': 3.1203728088487304, 'subsample': 0.2403950683025824, 'colsample_bytree': 0.15227525095137953, 'colsample_bylevel': 0.8795585311974417, 'reg_lambda': 6.011150117432088, 'reg_alpha': 7.080725777960454, 'min_child_weight': 0, 'class_weight': None, 'n_estimators': 1442}\n",
      "[2024-12-02 11:52:09,257] - [   OPTUNA   ] - Trial 1. New best score 0.972921253471561 with parameters {'max_depth': 4, 'grow_policy': 'lossguide', 'max_leaves': 163, 'gamma': 10.495128632644757, 'subsample': 0.48875051677790415, 'colsample_bytree': 0.36210622617823773, 'colsample_bylevel': 0.6506676052501416, 'reg_lambda': 1.3949386065204183, 'reg_alpha': 2.9214464853521815, 'min_child_weight': 7, 'class_weight': 'balanced', 'n_estimators': 636}\n",
      "[2024-12-02 11:52:24,832] - [   OPTUNA   ] - Trial 13. New best score 0.9790120317021698 with parameters {'max_depth': 3, 'grow_policy': 'lossguide', 'max_leaves': 158, 'gamma': 8.137446613171024, 'subsample': 0.7852233074870996, 'colsample_bytree': 0.6085458022694209, 'colsample_bylevel': 0.7642885079136092, 'reg_lambda': 2.2697058074923775, 'reg_alpha': 0.6287012126658227, 'min_child_weight': 7, 'class_weight': 'balanced', 'n_estimators': 736}\n",
      "[2024-12-02 11:52:25,837] - [   OPTUNA   ] - Trial 14. New best score 0.982755980162436 with parameters {'max_depth': 5, 'grow_policy': 'lossguide', 'max_leaves': 230, 'gamma': 8.195371905068784, 'subsample': 0.7101556495504214, 'colsample_bytree': 0.6546689309910291, 'colsample_bylevel': 0.8229981171069837, 'reg_lambda': 2.4796799285148428, 'reg_alpha': 0.0942663992192605, 'min_child_weight': 4, 'class_weight': 'balanced', 'n_estimators': 368}\n",
      "[2024-12-02 11:52:26,854] - [   OPTUNA   ] - Trial 15. New best score 0.9843956295287501 with parameters {'max_depth': 7, 'grow_policy': 'lossguide', 'max_leaves': 248, 'gamma': 7.613798485412002, 'subsample': 0.7361024474080818, 'colsample_bytree': 0.6914307738948051, 'colsample_bylevel': 0.8332058961497237, 'reg_lambda': 3.10203823049562, 'reg_alpha': 0.09040338298036599, 'min_child_weight': 4, 'class_weight': 'balanced', 'n_estimators': 374}\n",
      "[2024-12-02 11:52:31,755] - [   OPTUNA   ] - Trial 18. New best score 0.9862737526024822 with parameters {'max_depth': 12, 'grow_policy': 'depthwise', 'max_leaves': 257, 'gamma': 0.15196511804689994, 'subsample': 0.47281276347905365, 'colsample_bytree': 0.8094643907024937, 'colsample_bylevel': 0.5656173086926599, 'reg_lambda': 6.385193089431626, 'reg_alpha': 4.427389294812166, 'min_child_weight': 0, 'class_weight': 'balanced', 'n_estimators': 868}\n",
      "[2024-12-02 11:52:37,245] - [   OPTUNA   ] - Trial 21. New best score 0.9879771724498336 with parameters {'max_depth': 11, 'grow_policy': 'depthwise', 'max_leaves': 232, 'gamma': 0.2708274641282955, 'subsample': 0.657319319844437, 'colsample_bytree': 0.7882318444157667, 'colsample_bylevel': 0.5499286545300542, 'reg_lambda': 4.705772093407992, 'reg_alpha': 1.6094236135560092, 'min_child_weight': 1, 'class_weight': 'balanced', 'n_estimators': 641}\n",
      "[2024-12-02 11:53:06,955] - [   OPTUNA   ] - 36 trials completed\n",
      "[2024-12-02 11:53:06,956] - [BEST PARAMS ] - {'max_depth': 11, 'max_leaves': 232, 'grow_policy': 'depthwise', 'gamma': 0.2708274641282955, 'min_child_weight': 1, 'subsample': 0.657319319844437, 'colsample_bytree': 0.7882318444157667, 'colsample_bylevel': 0.5499286545300542, 'reg_lambda': 4.705772093407992, 'reg_alpha': 1.6094236135560092, 'class_weight': 'balanced', 'n_estimators': 641, 'learning_rate': 0.03, 'verbosity': 0, 'early_stopping_rounds': 100, 'enable_categorical': True, 'max_cat_to_onehot': 5, 'n_jobs': 5, 'random_state': 42, 'eval_metric': 'auc', 'time_series': False}\n",
      "[2024-12-02 11:53:06,956] - [    END     ] - Tuning XGBClassification\n",
      "[2024-12-02 11:53:06,956] - [   START    ] - Fitting XGBClassification\n",
      "[2024-12-02 11:53:06,961] - [    FIT     ] - XGBClassification fold 0\n",
      "[2024-12-02 11:53:07,417] - [    FIT     ] - XGBClassification fold 1\n",
      "[2024-12-02 11:53:07,889] - [    FIT     ] - XGBClassification fold 2\n",
      "[2024-12-02 11:53:08,316] - [    FIT     ] - XGBClassification fold 3\n",
      "[2024-12-02 11:53:08,733] - [    FIT     ] - XGBClassification fold 4\n",
      "[2024-12-02 11:53:09,150] - [    END     ] - Fitting XGBClassification\n",
      "[2024-12-02 11:53:09,288] - [   SCORE    ] - Train: 0.9984160071767781\n",
      "[2024-12-02 11:53:09,290] - [   SCORE    ] - OOF: 0.9879959359313316\n",
      "[2024-12-02 11:53:09,342] - [   SCORE    ] - Test: 0.9908891403908016\n",
      "[2024-12-02 11:53:09,343] - [   SCORE    ] - Overfit: 0.75 %\n",
      "[2024-12-02 11:53:09,344] - [    END     ] - Working with XGBClassification\n",
      "[2024-12-02 11:53:09,344] - [BEST  MODEL ] - CatBoostClassification. Best score: 0.9921304240241118 \n",
      "\n",
      "[2024-12-02 11:53:09,345] - [   MODEL    ] - 7 out of 9. TabularLama\n",
      "[2024-12-02 11:53:09,345] - [   START    ] - Working with TabularLama\n",
      "[2024-12-02 11:53:09,345] - [   START    ] - Fitting TabularLama\n",
      "[2024-12-02 11:53:09,362] - [11:53:09] Stdout logging level is INFO.\n",
      "[2024-12-02 11:53:09,363] - [11:53:09] Copying TaskTimer may affect the parent PipelineTimer, so copy will create new unlimited TaskTimer\n",
      "[2024-12-02 11:53:09,364] - [11:53:09] Task: binary\n",
      "\n",
      "[2024-12-02 11:53:09,364] - [11:53:09] Start automl preset with listed constraints:\n",
      "[2024-12-02 11:53:09,365] - [11:53:09] - time: 120.00 seconds\n",
      "[2024-12-02 11:53:09,365] - [11:53:09] - CPU: 5 cores\n",
      "[2024-12-02 11:53:09,365] - [11:53:09] - memory: 16 GB\n",
      "\n",
      "[2024-12-02 11:53:09,366] - [11:53:09] \u001b[1mTrain data shape: (4000, 24)\u001b[0m\n",
      "\n",
      "[2024-12-02 11:53:09,538] - [11:53:09] Layer \u001b[1m1\u001b[0m train process start. Time left 119.83 secs\n",
      "[2024-12-02 11:53:09,663] - [11:53:09] Start fitting \u001b[1mLvl_0_Pipe_0_Mod_0_LinearL2\u001b[0m ...\n",
      "[2024-12-02 11:53:11,306] - [11:53:11] Fitting \u001b[1mLvl_0_Pipe_0_Mod_0_LinearL2\u001b[0m finished. score = \u001b[1m0.9148979761049598\u001b[0m\n",
      "[2024-12-02 11:53:11,307] - [11:53:11] \u001b[1mLvl_0_Pipe_0_Mod_0_LinearL2\u001b[0m fitting and predicting completed\n",
      "[2024-12-02 11:53:11,307] - [11:53:11] Time left 118.06 secs\n",
      "\n",
      "[2024-12-02 11:53:12,795] - [11:53:12] \u001b[1mSelector_LightGBM\u001b[0m fitting and predicting completed\n",
      "[2024-12-02 11:53:12,931] - [11:53:12] Start fitting \u001b[1mLvl_0_Pipe_1_Mod_0_LightGBM\u001b[0m ...\n",
      "[2024-12-02 11:53:21,629] - [11:53:21] Time limit exceeded after calculating fold 3\n",
      "\n",
      "[2024-12-02 11:53:21,631] - [11:53:21] Fitting \u001b[1mLvl_0_Pipe_1_Mod_0_LightGBM\u001b[0m finished. score = \u001b[1m0.9901065810848291\u001b[0m\n",
      "[2024-12-02 11:53:21,632] - [11:53:21] \u001b[1mLvl_0_Pipe_1_Mod_0_LightGBM\u001b[0m fitting and predicting completed\n",
      "[2024-12-02 11:53:21,632] - [11:53:21] Start hyperparameters optimization for \u001b[1mLvl_0_Pipe_1_Mod_1_Tuned_LightGBM\u001b[0m ... Time budget is 1.00 secs\n",
      "[2024-12-02 11:53:24,273] - [11:53:24] Hyperparameters optimization for \u001b[1mLvl_0_Pipe_1_Mod_1_Tuned_LightGBM\u001b[0m completed\n",
      "[2024-12-02 11:53:24,274] - [11:53:24] Start fitting \u001b[1mLvl_0_Pipe_1_Mod_1_Tuned_LightGBM\u001b[0m ...\n",
      "[2024-12-02 11:53:27,536] - [11:53:27] Fitting \u001b[1mLvl_0_Pipe_1_Mod_1_Tuned_LightGBM\u001b[0m finished. score = \u001b[1m0.9896496579087695\u001b[0m\n",
      "[2024-12-02 11:53:27,536] - [11:53:27] \u001b[1mLvl_0_Pipe_1_Mod_1_Tuned_LightGBM\u001b[0m fitting and predicting completed\n",
      "[2024-12-02 11:53:27,544] - [11:53:27] Start fitting \u001b[1mLvl_0_Pipe_1_Mod_2_CatBoost\u001b[0m ...\n",
      "[2024-12-02 11:53:30,582] - [11:53:30] Fitting \u001b[1mLvl_0_Pipe_1_Mod_2_CatBoost\u001b[0m finished. score = \u001b[1m0.9887249225435878\u001b[0m\n",
      "[2024-12-02 11:53:30,583] - [11:53:30] \u001b[1mLvl_0_Pipe_1_Mod_2_CatBoost\u001b[0m fitting and predicting completed\n",
      "[2024-12-02 11:53:30,583] - [11:53:30] Start hyperparameters optimization for \u001b[1mLvl_0_Pipe_1_Mod_3_Tuned_CatBoost\u001b[0m ... Time budget is 64.18 secs\n",
      "[2024-12-02 11:54:35,115] - [11:54:35] Hyperparameters optimization for \u001b[1mLvl_0_Pipe_1_Mod_3_Tuned_CatBoost\u001b[0m completed\n",
      "[2024-12-02 11:54:35,116] - [11:54:35] Start fitting \u001b[1mLvl_0_Pipe_1_Mod_3_Tuned_CatBoost\u001b[0m ...\n",
      "[2024-12-02 11:54:39,942] - [11:54:39] Fitting \u001b[1mLvl_0_Pipe_1_Mod_3_Tuned_CatBoost\u001b[0m finished. score = \u001b[1m0.9898289252252441\u001b[0m\n",
      "[2024-12-02 11:54:39,943] - [11:54:39] \u001b[1mLvl_0_Pipe_1_Mod_3_Tuned_CatBoost\u001b[0m fitting and predicting completed\n",
      "[2024-12-02 11:54:39,943] - [11:54:39] Time left 29.42 secs\n",
      "\n",
      "[2024-12-02 11:54:39,943] - [11:54:39] Time limit exceeded in one of the tasks. AutoML will blend level 1 models.\n",
      "\n",
      "[2024-12-02 11:54:39,944] - [11:54:39] \u001b[1mLayer 1 training completed.\u001b[0m\n",
      "\n",
      "[2024-12-02 11:54:39,946] - [11:54:39] Blending: optimization starts with equal weights and score \u001b[1m0.9869266710465028\u001b[0m\n",
      "[2024-12-02 11:54:39,996] - [11:54:39] Blending: iteration \u001b[1m0\u001b[0m: score = \u001b[1m0.9902926874909193\u001b[0m, weights = \u001b[1m[0.         0.         0.38025373 0.         0.61974627]\u001b[0m\n",
      "[2024-12-02 11:54:40,049] - [11:54:40] Blending: iteration \u001b[1m1\u001b[0m: score = \u001b[1m0.9902926874909193\u001b[0m, weights = \u001b[1m[0.         0.         0.38025373 0.         0.61974627]\u001b[0m\n",
      "[2024-12-02 11:54:40,049] - [11:54:40] Blending: no score update. Terminated\n",
      "\n",
      "[2024-12-02 11:54:40,052] - [11:54:40] \u001b[1mAutoml preset training completed in 90.69 seconds\u001b[0m\n",
      "\n",
      "[2024-12-02 11:54:40,053] - [11:54:40] Model description:\n",
      "Final prediction for new objects (level 0) = \n",
      "\t 0.38025 * (5 averaged models Lvl_0_Pipe_1_Mod_1_Tuned_LightGBM) +\n",
      "\t 0.61975 * (5 averaged models Lvl_0_Pipe_1_Mod_3_Tuned_CatBoost) \n",
      "\n",
      "[2024-12-02 11:54:40,053] - [    END     ] - Fitting TabularLama\n",
      "[2024-12-02 11:54:40,245] - [   SCORE    ] - Train: 0.9998463423001644\n",
      "[2024-12-02 11:54:40,247] - [   SCORE    ] - OOF: 0.9902926874909193\n",
      "[2024-12-02 11:54:40,318] - [   SCORE    ] - Test: 0.9925036204105973\n",
      "[2024-12-02 11:54:40,319] - [   SCORE    ] - Overfit: 0.73 %\n",
      "[2024-12-02 11:54:40,320] - [    END     ] - Working with TabularLama\n",
      "[2024-12-02 11:54:40,320] - [  NEW BEST  ] - TabularLama. Best score: 0.9925036204105973 \n",
      "\n",
      "[2024-12-02 11:54:40,320] - [   MODEL    ] - 8 out of 9. Stacker\n",
      "[2024-12-02 11:54:40,322] - [   START    ] - Working with Stacker\n",
      "[2024-12-02 11:54:40,323] - [   START    ] - Tuning Stacker\n",
      "[2024-12-02 11:54:40,687] - [   OPTUNA   ] - Trial 0. New best score 0.9896887062351303 with parameters {'max_depth': 6, 'num_leaves': 488, 'min_data_in_leaf': 188, 'bagging_fraction': 0.7993292420985183, 'bagging_freq': 0, 'feature_fraction': 0.49359671220172163, 'lambda_l1': 0.5808361216819946, 'lambda_l2': 8.661761457749352, 'min_gain_to_split': 12.022300234864176, 'is_unbalance': True, 'num_iterations': 146}\n",
      "[2024-12-02 11:54:44,605] - [   OPTUNA   ] - Trial 12. New best score 0.9897378969839226 with parameters {'max_depth': 10, 'num_leaves': 512, 'min_data_in_leaf': 256, 'bagging_fraction': 0.8114672080381468, 'bagging_freq': 20, 'feature_fraction': 0.42015153096068325, 'lambda_l1': 1.2228263483685051, 'lambda_l2': 9.960165317474354, 'min_gain_to_split': 1.5663747008950535, 'is_unbalance': False, 'num_iterations': 184}\n",
      "[2024-12-02 11:54:49,751] - [   OPTUNA   ] - Trial 26. New best score 0.9902720223052155 with parameters {'max_depth': 12, 'num_leaves': 218, 'min_data_in_leaf': 253, 'bagging_fraction': 0.6196043497888137, 'bagging_freq': 15, 'feature_fraction': 0.9679251695466697, 'lambda_l1': 3.07178491050275, 'lambda_l2': 5.683121886354218, 'min_gain_to_split': 0.253201910585006, 'is_unbalance': False, 'num_iterations': 129}\n",
      "[2024-12-02 11:55:00,724] - [   OPTUNA   ] - Trial 58. New best score 0.9902962373387704 with parameters {'max_depth': 3, 'num_leaves': 260, 'min_data_in_leaf': 229, 'bagging_fraction': 0.6899013548245432, 'bagging_freq': 15, 'feature_fraction': 0.7925791252994483, 'lambda_l1': 2.44678525349185, 'lambda_l2': 9.060881681494099, 'min_gain_to_split': 2.4214955970870493, 'is_unbalance': False, 'num_iterations': 178}\n",
      "[2024-12-02 11:55:01,586] - [   OPTUNA   ] - Trial 61. New best score 0.9905267238885236 with parameters {'max_depth': 3, 'num_leaves': 227, 'min_data_in_leaf': 221, 'bagging_fraction': 0.6635638190838966, 'bagging_freq': 15, 'feature_fraction': 0.7234507343184686, 'lambda_l1': 1.2933108359854524, 'lambda_l2': 9.61050407838239, 'min_gain_to_split': 1.8582101324502398, 'is_unbalance': False, 'num_iterations': 142}\n",
      "[2024-12-02 11:55:07,600] - [   OPTUNA   ] - Trial 80. New best score 0.9905391483560022 with parameters {'max_depth': 9, 'num_leaves': 278, 'min_data_in_leaf': 107, 'bagging_fraction': 0.7866467179520827, 'bagging_freq': 20, 'feature_fraction': 0.9462921450255232, 'lambda_l1': 1.0265094327754614, 'lambda_l2': 3.3549138920924837, 'min_gain_to_split': 3.5375829951469098, 'is_unbalance': False, 'num_iterations': 138}\n",
      "[2024-12-02 11:55:08,023] - [   OPTUNA   ] - Trial 81. New best score 0.9907383201764984 with parameters {'max_depth': 9, 'num_leaves': 325, 'min_data_in_leaf': 121, 'bagging_fraction': 0.784432851910338, 'bagging_freq': 20, 'feature_fraction': 0.9592956164198699, 'lambda_l1': 1.0859544260769274, 'lambda_l2': 3.245248539149517, 'min_gain_to_split': 2.7144115631313914, 'is_unbalance': False, 'num_iterations': 154}\n",
      "[2024-12-02 11:55:08,422] - [   OPTUNA   ] - Trial 82. New best score 0.9909082057522243 with parameters {'max_depth': 9, 'num_leaves': 333, 'min_data_in_leaf': 96, 'bagging_fraction': 0.7857482211149107, 'bagging_freq': 20, 'feature_fraction': 0.9534405984904352, 'lambda_l1': 0.9860833465513092, 'lambda_l2': 3.2905344134945107, 'min_gain_to_split': 2.7243901936996644, 'is_unbalance': False, 'num_iterations': 147}\n",
      "[2024-12-02 11:55:16,771] - [   OPTUNA   ] - Trial 105. New best score 0.9909127698423184 with parameters {'max_depth': 9, 'num_leaves': 355, 'min_data_in_leaf': 136, 'bagging_fraction': 0.7851217181960449, 'bagging_freq': 20, 'feature_fraction': 0.9451695483845682, 'lambda_l1': 0.45364359412432276, 'lambda_l2': 2.9820685992278633, 'min_gain_to_split': 2.879543668138525, 'is_unbalance': False, 'num_iterations': 156}\n",
      "[2024-12-02 11:55:30,968] - [   OPTUNA   ] - Trial 143. New best score 0.9910618634520597 with parameters {'max_depth': 9, 'num_leaves': 315, 'min_data_in_leaf': 117, 'bagging_fraction': 0.8103617141757274, 'bagging_freq': 20, 'feature_fraction': 0.9845254398962824, 'lambda_l1': 0.0885364166220965, 'lambda_l2': 3.5376477551628334, 'min_gain_to_split': 2.6448010166366056, 'is_unbalance': False, 'num_iterations': 161}\n",
      "[2024-12-02 11:55:40,569] - [   OPTUNA   ] - 167 trials completed\n",
      "[2024-12-02 11:55:40,569] - [BEST PARAMS ] - {'max_depth': 9, 'num_leaves': 315, 'min_data_in_leaf': 117, 'bagging_fraction': 0.8103617141757274, 'bagging_freq': 20, 'feature_fraction': 0.9845254398962824, 'lambda_l1': 0.0885364166220965, 'lambda_l2': 3.5376477551628334, 'min_gain_to_split': 2.6448010166366056, 'is_unbalance': False, 'class_weight': None, 'num_iterations': 161, 'boosting': 'gbdt', 'learning_rate': 0.03, 'early_stopping_round': 100, 'n_jobs': 5, 'random_state': 42, 'verbose': -1, 'eval_metric': 'auc', 'time_series': False}\n",
      "[2024-12-02 11:55:40,570] - [    END     ] - Tuning Stacker\n",
      "[2024-12-02 11:55:40,570] - [   START    ] - Fitting Stacker\n",
      "[2024-12-02 11:55:40,571] - [    FIT     ] - Stacker fold 0\n",
      "[2024-12-02 11:55:40,659] - [    FIT     ] - Stacker fold 1\n",
      "[2024-12-02 11:55:40,730] - [    FIT     ] - Stacker fold 2\n",
      "[2024-12-02 11:55:40,786] - [    FIT     ] - Stacker fold 3\n",
      "[2024-12-02 11:55:40,837] - [    FIT     ] - Stacker fold 4\n",
      "[2024-12-02 11:55:40,902] - [    END     ] - Fitting Stacker\n",
      "[2024-12-02 11:55:40,921] - [   SCORE    ] - Train: 0.9926634787342561\n",
      "[2024-12-02 11:55:40,923] - [   SCORE    ] - OOF: 0.9910368877368224\n",
      "[2024-12-02 11:55:40,932] - [   SCORE    ] - Test: 0.9936556614297477\n",
      "[2024-12-02 11:55:40,932] - [   SCORE    ] - Overfit: 0.10 %\n",
      "[2024-12-02 11:55:40,933] - [    END     ] - Working with Stacker\n",
      "[2024-12-02 11:55:40,934] - [  NEW BEST  ] - Stacker. Best score: 0.9936556614297477 \n",
      "\n",
      "[2024-12-02 11:55:40,934] - [   MODEL    ] - 9 out of 9. Blender\n",
      "[2024-12-02 11:55:40,934] - [   START    ] - Working with Blender\n",
      "[2024-12-02 11:55:40,935] - [   START    ] - Tuning Blender\n",
      "[2024-12-02 11:55:41,002] - [   OPTUNA   ] - Best score 0.9911537791553442 with weights [0.0, 0.0, 0.0, 0.0, 0.0, 0.0, 0.17349267758474227, 0.8265073224152577]\n",
      "[2024-12-02 11:55:41,035] - [   OPTUNA   ] - Best score 0.9911545398370265 with weights [0.0, 0.0, 0.0, 0.0, 0.0, 0.0, 0.17489477727432923, 0.8251052227256708]\n",
      "[2024-12-02 11:55:41,066] - [   OPTUNA   ] - Best score 0.9911545398370265 with weights [0.0, 0.0, 0.0, 0.0, 0.0, 0.0, 0.17489477727432923, 0.8251052227256708]\n",
      "[2024-12-02 11:55:41,067] - [BEST PARAMS ] - {'weights': [0.0, 0.0, 0.0, 0.0, 0.0, 0.0, 0.17489477727432923, 0.8251052227256708], 'n': 8, 'random_state': 42, 'n_iters': 10, 'n_inner_iters': 3}\n",
      "[2024-12-02 11:55:41,067] - [    END     ] - Tuning Blender\n",
      "[2024-12-02 11:55:41,069] - [   SCORE    ] - Train: 0.9911545398370265\n",
      "[2024-12-02 11:55:41,072] - [   SCORE    ] - OOF: 0.9911545398370265\n",
      "[2024-12-02 11:55:41,074] - [   SCORE    ] - Test: 0.9935258539909703\n",
      "[2024-12-02 11:55:41,074] - [   SCORE    ] - Overfit: 0.24 %\n",
      "[2024-12-02 11:55:41,076] - [    END     ] - Working with Blender\n",
      "[2024-12-02 11:55:41,076] - [BEST  MODEL ] - Stacker. Best score: 0.9936556614297477 \n",
      "\n"
     ]
    },
    {
     "data": {
      "text/plain": [
       "<src.automl.model.main.AutoML at 0xffff0b3905e0>"
      ]
     },
     "execution_count": 20,
     "metadata": {},
     "output_type": "execute_result"
    }
   ],
   "source": [
    "model.fit(\n",
    "    X_train, y_train,\n",
    "    X_test, y_test,\n",
    "    save_test=False,\n",
    "    save_oof=False,\n",
    "    save_models=False,\n",
    "    categorical_features=cat_features\n",
    ")"
   ]
  },
  {
   "cell_type": "code",
   "execution_count": 21,
   "id": "9f55b811-8215-4774-b9f9-86c95a1e3ab9",
   "metadata": {},
   "outputs": [
    {
     "data": {
      "text/plain": [
       "array([[0.99078044, 0.00921956],\n",
       "       [0.01059638, 0.98940362],\n",
       "       [0.90615082, 0.09384918],\n",
       "       ...,\n",
       "       [0.8982518 , 0.1017482 ],\n",
       "       [0.01059638, 0.98940362],\n",
       "       [0.99080655, 0.00919345]])"
      ]
     },
     "execution_count": 21,
     "metadata": {},
     "output_type": "execute_result"
    }
   ],
   "source": [
    "model.predict(X_test)"
   ]
  },
  {
   "cell_type": "code",
   "execution_count": null,
   "id": "a535ac9e-f040-4a4a-8aad-a074ce283a54",
   "metadata": {},
   "outputs": [],
   "source": []
  }
 ],
 "metadata": {
  "kernelspec": {
   "display_name": "Python 3 (ipykernel)",
   "language": "python",
   "name": "python3"
  },
  "language_info": {
   "codemirror_mode": {
    "name": "ipython",
    "version": 3
   },
   "file_extension": ".py",
   "mimetype": "text/x-python",
   "name": "python",
   "nbconvert_exporter": "python",
   "pygments_lexer": "ipython3",
   "version": "3.9.2"
  }
 },
 "nbformat": 4,
 "nbformat_minor": 5
}
