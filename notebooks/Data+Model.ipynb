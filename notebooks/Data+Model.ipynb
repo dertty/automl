{
 "cells": [
  {
   "cell_type": "markdown",
   "id": "7ee419fd-0036-4e95-b925-9cff1ec9904b",
   "metadata": {},
   "source": [
    "## This example contains sample script for feature processing and launching models "
   ]
  },
  {
   "cell_type": "code",
   "execution_count": 23,
   "id": "8ec103b6-8a2a-45d8-9a28-d6edc05330c9",
   "metadata": {},
   "outputs": [],
   "source": [
    "from sklearn.model_selection import train_test_split\n",
    "from sklearn.preprocessing import LabelEncoder\n",
    "\n",
    "import pandas as pd\n",
    "import numpy as np"
   ]
  },
  {
   "cell_type": "code",
   "execution_count": 24,
   "id": "ccad833c-831f-4dc3-9699-54ceb8559309",
   "metadata": {},
   "outputs": [],
   "source": [
    "RANDOM_STATE = 42\n",
    "N_JOBS = 5\n",
    "TARGET = \"satisfaction\""
   ]
  },
  {
   "cell_type": "markdown",
   "id": "02b4eaa5-0154-4f0f-ae3b-853e2e659c00",
   "metadata": {},
   "source": [
    "### Data"
   ]
  },
  {
   "cell_type": "code",
   "execution_count": 25,
   "id": "54a42b70-fe20-4e73-af2b-c436932983ef",
   "metadata": {},
   "outputs": [
    {
     "name": "stdout",
     "output_type": "stream",
     "text": [
      "<class 'pandas.core.frame.DataFrame'>\n",
      "Int64Index: 2000 entries, 80638 to 54347\n",
      "Data columns (total 25 columns):\n",
      " #   Column                             Non-Null Count  Dtype  \n",
      "---  ------                             --------------  -----  \n",
      " 0   id                                 2000 non-null   int64  \n",
      " 1   Gender                             2000 non-null   object \n",
      " 2   Customer Type                      2000 non-null   object \n",
      " 3   Age                                2000 non-null   int64  \n",
      " 4   Type of Travel                     2000 non-null   object \n",
      " 5   Class                              2000 non-null   object \n",
      " 6   Flight Distance                    2000 non-null   int64  \n",
      " 7   Inflight wifi service              2000 non-null   int64  \n",
      " 8   Departure/Arrival time convenient  2000 non-null   int64  \n",
      " 9   Ease of Online booking             2000 non-null   int64  \n",
      " 10  Gate location                      2000 non-null   int64  \n",
      " 11  Food and drink                     2000 non-null   int64  \n",
      " 12  Online boarding                    2000 non-null   int64  \n",
      " 13  Seat comfort                       2000 non-null   int64  \n",
      " 14  Inflight entertainment             2000 non-null   int64  \n",
      " 15  On-board service                   2000 non-null   int64  \n",
      " 16  Leg room service                   2000 non-null   int64  \n",
      " 17  Baggage handling                   2000 non-null   int64  \n",
      " 18  Checkin service                    2000 non-null   int64  \n",
      " 19  Inflight service                   2000 non-null   int64  \n",
      " 20  Cleanliness                        2000 non-null   int64  \n",
      " 21  Departure Delay in Minutes         2000 non-null   int64  \n",
      " 22  Arrival Delay in Minutes           1998 non-null   float64\n",
      " 23  satisfaction                       2000 non-null   object \n",
      " 24  cnst                               2000 non-null   int64  \n",
      "dtypes: float64(1), int64(19), object(5)\n",
      "memory usage: 406.2+ KB\n"
     ]
    }
   ],
   "source": [
    "df = pd.read_csv(\"../data/airlines_train.csv\").drop(columns=\"Unnamed: 0\").sample(n=2_000, random_state=RANDOM_STATE).assign(cnst=1)\n",
    "df.info()\n",
    "X, y = df.drop(columns=TARGET), df[TARGET]\n",
    "y = LabelEncoder().fit_transform(y)\n",
    "\n",
    "X_train, X_test, y_train, y_test  = train_test_split(X, y, stratify=y, random_state=RANDOM_STATE, test_size=0.2)\n",
    "\n",
    "X_train = X_train.reset_index(drop=True)\n",
    "X_test = X_test.reset_index(drop=True)\n"
   ]
  },
  {
   "cell_type": "code",
   "execution_count": 26,
   "id": "e8fdd8f3-958d-4ba7-95e8-b60223894fff",
   "metadata": {},
   "outputs": [],
   "source": [
    "import sys; sys.path.append(\"../\"); sys.path.append(\"../src/\")\n",
    "\n",
    "from src.automl.feature_selection.pipe import PreprocessingPipeline, ValTestsPipeline"
   ]
  },
  {
   "cell_type": "code",
   "execution_count": 27,
   "id": "9037b926-4de1-439c-acad-9df40061c834",
   "metadata": {},
   "outputs": [
    {
     "name": "stdout",
     "output_type": "stream",
     "text": [
      "[2024-12-02 09:45:10,158] - [  PREPROC   ] - Успешно заданы шаги pipeline\n",
      "[2024-12-02 09:45:10,160] - [ VAL_TESTS  ] - Успешно заданы шаги pipeline\n"
     ]
    }
   ],
   "source": [
    "feat_pipe = PreprocessingPipeline(obj_encoders=[\"ohe\", \"oe\"])\n",
    "val_test_pipe = ValTestsPipeline()"
   ]
  },
  {
   "cell_type": "markdown",
   "id": "7ef386a2-9087-491c-98c1-449332c5476a",
   "metadata": {},
   "source": [
    "#### Feature pipeline"
   ]
  },
  {
   "cell_type": "code",
   "execution_count": 28,
   "id": "043ceefa-b632-4ba6-ba2b-688d78aa0741",
   "metadata": {},
   "outputs": [
    {
     "name": "stdout",
     "output_type": "stream",
     "text": [
      "Initial train data shape (1600, 24)\n",
      "[2024-12-02 09:45:10,635] - [Pipeline] .. (step 1 of 6) Processing nan_cols_dropper, total=   0.0\n",
      "[2024-12-02 09:45:10,658] - [Pipeline] ....... (step 2 of 6) Processing nan_imputer, total=   0.0\n",
      "[2024-12-02 09:45:10,673] - [  PREPROC   ] - Corr features to drop: ['Arrival Delay in Minutes']\n",
      "[2024-12-02 09:45:10,675] - [Pipeline] . (step 3 of 6) Processing corr_cols_dropper, total=   0.0\n",
      "[2024-12-02 09:45:10,685] - [  PREPROC   ] - QConstant features to drop: ['cnst']\n",
      "[2024-12-02 09:45:10,687] - [Pipeline] .... (step 4 of 6) Processing qconst_dropper, total=   0.0\n",
      "[2024-12-02 09:45:10,703] - [Pipeline] .... (step 5 of 6) Processing outlier_capper, total=   0.0\n",
      "[2024-12-02 09:45:10,712] - [Pipeline] ... (step 6 of 6) Processing feature_encoder, total=   0.0\n",
      "Train data shape after pipeline (1600, 23)\n"
     ]
    }
   ],
   "source": [
    "print(\"Initial train data shape\", X_train.shape)\n",
    "X_train = feat_pipe.fit_transform(X_train, y_train)\n",
    "print(\"Train data shape after pipeline\", X_train.shape)\n",
    "X_test = feat_pipe.transform(X_test)"
   ]
  },
  {
   "cell_type": "code",
   "execution_count": 29,
   "id": "1b6babf1-9c73-4b86-b883-80d91a7bcb52",
   "metadata": {},
   "outputs": [
    {
     "name": "stdout",
     "output_type": "stream",
     "text": [
      "<class 'pandas.core.frame.DataFrame'>\n",
      "RangeIndex: 1600 entries, 0 to 1599\n",
      "Data columns (total 23 columns):\n",
      " #   Column                                             Non-Null Count  Dtype  \n",
      "---  ------                                             --------------  -----  \n",
      " 0   OneHotEncoder__Gender_Male                         1600 non-null   int16  \n",
      " 1   OneHotEncoder__Customer Type_disloyal Customer     1600 non-null   int16  \n",
      " 2   OneHotEncoder__Type of Travel_Personal Travel      1600 non-null   int16  \n",
      " 3   OneHotEncoder__Class_Eco                           1600 non-null   int16  \n",
      " 4   OneHotEncoder__Class_Eco Plus                      1600 non-null   int16  \n",
      " 5   StandardScaler__id                                 1600 non-null   float64\n",
      " 6   StandardScaler__Age                                1600 non-null   float64\n",
      " 7   StandardScaler__Flight Distance                    1600 non-null   float64\n",
      " 8   StandardScaler__Inflight wifi service              1600 non-null   float64\n",
      " 9   StandardScaler__Departure/Arrival time convenient  1600 non-null   float64\n",
      " 10  StandardScaler__Ease of Online booking             1600 non-null   float64\n",
      " 11  StandardScaler__Gate location                      1600 non-null   float64\n",
      " 12  StandardScaler__Food and drink                     1600 non-null   float64\n",
      " 13  StandardScaler__Online boarding                    1600 non-null   float64\n",
      " 14  StandardScaler__Seat comfort                       1600 non-null   float64\n",
      " 15  StandardScaler__Inflight entertainment             1600 non-null   float64\n",
      " 16  StandardScaler__On-board service                   1600 non-null   float64\n",
      " 17  StandardScaler__Leg room service                   1600 non-null   float64\n",
      " 18  StandardScaler__Baggage handling                   1600 non-null   float64\n",
      " 19  StandardScaler__Checkin service                    1600 non-null   float64\n",
      " 20  StandardScaler__Inflight service                   1600 non-null   float64\n",
      " 21  StandardScaler__Cleanliness                        1600 non-null   float64\n",
      " 22  StandardScaler__Departure Delay in Minutes         1600 non-null   float64\n",
      "dtypes: float64(18), int16(5)\n",
      "memory usage: 240.8 KB\n"
     ]
    }
   ],
   "source": [
    "X_train.info()"
   ]
  },
  {
   "cell_type": "markdown",
   "id": "365259ae-17b6-44cc-84da-0e244ae78b10",
   "metadata": {},
   "source": [
    "#### ValTest pipeline"
   ]
  },
  {
   "cell_type": "code",
   "execution_count": 30,
   "id": "c974e198-0f45-41b5-8f10-3c1a9411611b",
   "metadata": {},
   "outputs": [],
   "source": [
    "## adding evidently shifted by distribution feature\n",
    "X_train[\"bad_feature\"] = np.random.uniform(0, 10, size=X_train.shape[0])\n",
    "X_test[\"bad_feature\"] = np.random.uniform(5, 15, size=X_test.shape[0])"
   ]
  },
  {
   "cell_type": "code",
   "execution_count": 31,
   "id": "cdc72841-f88f-4bd7-bab3-587587f54eea",
   "metadata": {},
   "outputs": [
    {
     "name": "stdout",
     "output_type": "stream",
     "text": [
      "Initial train data shape (1600, 24)\n",
      "[2024-12-02 09:45:12,925] - [  PREPROC   ] - Features not passing psi test to drop: ['bad_feature']\n",
      "[2024-12-02 09:45:12,926] - [Pipeline] .......... (step 1 of 2) Processing PSI_test, total=   0.2\n",
      "[2024-12-02 09:45:12,946] - [Pipeline] .. (step 2 of 2) Processing Adversarial_test, total=   0.0\n",
      "Train data shape after pipeline (1600, 23)\n"
     ]
    }
   ],
   "source": [
    "print(\"Initial train data shape\", X_train.shape)\n",
    "X_train = val_test_pipe.fit_transform(X_train, X_test)\n",
    "print(\"Train data shape after pipeline\", X_train.shape)\n",
    "X_test = val_test_pipe.transform(X_test)"
   ]
  },
  {
   "cell_type": "code",
   "execution_count": 32,
   "id": "ddc0f234-f755-4957-985e-b62fafcdf63e",
   "metadata": {},
   "outputs": [],
   "source": [
    "cat_features = X_train.columns[(X_train.columns.str.startswith(\"OneHotEncoder\")) | (X_train.columns.str.startswith(\"OrdinalEncoder\"))].tolist()"
   ]
  },
  {
   "cell_type": "code",
   "execution_count": 33,
   "id": "11eb84d7-d1a1-4cce-811e-0945bbd6b394",
   "metadata": {},
   "outputs": [
    {
     "data": {
      "text/plain": [
       "['OneHotEncoder__Gender_Male',\n",
       " 'OneHotEncoder__Customer Type_disloyal Customer',\n",
       " 'OneHotEncoder__Type of Travel_Personal Travel',\n",
       " 'OneHotEncoder__Class_Eco',\n",
       " 'OneHotEncoder__Class_Eco Plus']"
      ]
     },
     "execution_count": 33,
     "metadata": {},
     "output_type": "execute_result"
    }
   ],
   "source": [
    "cat_features"
   ]
  },
  {
   "cell_type": "markdown",
   "id": "5c016435-bc58-452e-a373-89a49e6f4aaa",
   "metadata": {},
   "source": [
    "### Model"
   ]
  },
  {
   "cell_type": "code",
   "execution_count": 34,
   "id": "5df826c9-c236-4818-961a-c5ef19937f93",
   "metadata": {},
   "outputs": [],
   "source": [
    "from src.automl.model import AutoML"
   ]
  },
  {
   "cell_type": "code",
   "execution_count": 35,
   "id": "c8822ae4-d358-471f-b1ad-2e3ba0929697",
   "metadata": {},
   "outputs": [],
   "source": [
    "TUNING_TIMEOUT = 30 # time for tuning each model\n",
    "TASK = \"classification\" # one of [\"regression\", \"classification\"]\n",
    "METRIC = \"roc_auc\" # either sklearn metirc or a custom metric\n",
    "STACK = True # whether to perform stacking\n",
    "BLEND = True # whether to perform blending"
   ]
  },
  {
   "cell_type": "code",
   "execution_count": 36,
   "id": "0285da8c-b2d0-4d66-9fb5-223162d76893",
   "metadata": {},
   "outputs": [],
   "source": [
    "model = AutoML(\n",
    "    task=TASK,\n",
    "    metric=METRIC,\n",
    "    n_jobs=N_JOBS,\n",
    "    tuning_timeout=TUNING_TIMEOUT,\n",
    "    stack=STACK,\n",
    "    blend=BLEND\n",
    ")"
   ]
  },
  {
   "cell_type": "code",
   "execution_count": null,
   "id": "f8357fb2-ec89-4c95-adc0-c0e501786184",
   "metadata": {},
   "outputs": [
    {
     "name": "stdout",
     "output_type": "stream",
     "text": [
      "[2024-12-02 09:45:19,244] - [   MODEL    ] - 1 out of 9. LogisticRegression\n",
      "[2024-12-02 09:45:19,247] - [   START    ] - Working with LogisticRegression\n",
      "[2024-12-02 09:45:19,249] - [   START    ] - Tuning LogisticRegression\n",
      "[2024-12-02 09:45:19,903] - [   PARAMS   ] - C=0.3593813663804626, metric=0.9108633449988233\n",
      "[2024-12-02 09:45:19,904] - [BEST PARAMS ] - {'C': 0.3593813663804626, 'class_weight': 'balanced', 'max_iter': 1000, 'n_jobs': 5, 'random_state': 42, 'time_series': False}\n",
      "[2024-12-02 09:45:19,904] - [    END     ] - Tuning LogisticRegression\n",
      "[2024-12-02 09:45:19,904] - [   START    ] - Fitting LogisticRegression\n",
      "[2024-12-02 09:45:19,905] - [    FIT     ] - LogisticRegression fold 0\n",
      "[2024-12-02 09:45:19,913] - [    FIT     ] - LogisticRegression fold 1\n",
      "[2024-12-02 09:45:19,928] - [    FIT     ] - LogisticRegression fold 2\n",
      "[2024-12-02 09:45:19,933] - [    FIT     ] - LogisticRegression fold 3\n",
      "[2024-12-02 09:45:19,939] - [    FIT     ] - LogisticRegression fold 4\n",
      "[2024-12-02 09:45:19,945] - [    END     ] - Fitting LogisticRegression\n",
      "[2024-12-02 09:45:19,948] - [   SCORE    ] - Train: 0.9167845614235652\n",
      "[2024-12-02 09:45:19,950] - [   SCORE    ] - OOF: 0.9106302169422309\n",
      "[2024-12-02 09:45:19,951] - [   SCORE    ] - Test: 0.9090539682539682\n",
      "[2024-12-02 09:45:19,951] - [   SCORE    ] - Overfit: 0.84 %\n",
      "[2024-12-02 09:45:19,952] - [    END     ] - Working with LogisticRegression\n",
      "[2024-12-02 09:45:19,952] - [  NEW BEST  ] - LogisticRegression. Best score: 0.9090539682539682 \n",
      "\n",
      "[2024-12-02 09:45:19,953] - [   MODEL    ] - 2 out of 9. RandomForestClassification\n",
      "[2024-12-02 09:45:19,953] - [   START    ] - Working with RandomForestClassification\n",
      "[2024-12-02 09:45:19,953] - [   START    ] - Tuning RandomForestClassification\n",
      "[2024-12-02 09:45:21,115] - [   OPTUNA   ] - Trial 0. New best score 0.9167531780416235 with parameters {'n_estimators': 387, 'max_depth': 15, 'min_samples_split': 0.146398788362281, 'min_samples_leaf': 0.11973169683940732, 'max_features': 0.24041677639819287, 'criterion': 'log_loss', 'class_weight': 'balanced_subsample', 'oob_score': False, 'max_samples': 0.8341182143924175}\n",
      "[2024-12-02 09:45:23,129] - [   OPTUNA   ] - Trial 2. New best score 0.9514084773223251 with parameters {'n_estimators': 215, 'max_depth': 9, 'min_samples_split': 0.1184829137724085, 'min_samples_leaf': 0.009290082543999545, 'max_features': 0.6467903667112945, 'criterion': 'log_loss', 'class_weight': 'balanced', 'oob_score': True, 'max_samples': 0.6873906962470353}\n",
      "[2024-12-02 09:45:38,022] - [   OPTUNA   ] - Trial 11. New best score 0.9601804267714478 with parameters {'n_estimators': 561, 'max_depth': 8, 'min_samples_split': 0.07121824466699872, 'min_samples_leaf': 0.004689401807340943, 'max_features': 0.7827408179970072, 'criterion': 'entropy', 'class_weight': 'balanced_subsample', 'oob_score': False, 'max_samples': 0.6405508745066752}\n",
      "[2024-12-02 09:45:51,057] - [   OPTUNA   ] - 20 trials completed\n",
      "[2024-12-02 09:45:51,058] - [BEST PARAMS ] - {'n_estimators': 561, 'criterion': 'entropy', 'max_depth': 8, 'min_samples_split': 0.07121824466699872, 'min_samples_leaf': 0.004689401807340943, 'max_features': 0.7827408179970072, 'bootstrap': True, 'oob_score': False, 'max_samples': 0.6405508745066752, 'class_weight': 'balanced_subsample', 'n_jobs': 5, 'random_state': 42, 'verbose': 0, 'time_series': False}\n",
      "[2024-12-02 09:45:51,058] - [    END     ] - Tuning RandomForestClassification\n",
      "[2024-12-02 09:45:51,058] - [   START    ] - Fitting RandomForestClassification\n",
      "[2024-12-02 09:45:51,060] - [    FIT     ] - RandomForestClassification fold 0\n",
      "[2024-12-02 09:45:52,136] - [    FIT     ] - RandomForestClassification fold 1\n",
      "[2024-12-02 09:45:53,206] - [    FIT     ] - RandomForestClassification fold 2\n",
      "[2024-12-02 09:45:54,271] - [    FIT     ] - RandomForestClassification fold 3\n",
      "[2024-12-02 09:45:55,344] - [    FIT     ] - RandomForestClassification fold 4\n",
      "[2024-12-02 09:45:56,417] - [    END     ] - Fitting RandomForestClassification\n",
      "[2024-12-02 09:45:56,852] - [   SCORE    ] - Train: 0.9679167480418356\n",
      "[2024-12-02 09:45:56,853] - [   SCORE    ] - OOF: 0.9598205141640427\n",
      "[2024-12-02 09:45:57,218] - [   SCORE    ] - Test: 0.9579428571428571\n",
      "[2024-12-02 09:45:57,218] - [   SCORE    ] - Overfit: 1.03 %\n",
      "[2024-12-02 09:45:57,219] - [    END     ] - Working with RandomForestClassification\n",
      "[2024-12-02 09:45:57,220] - [  NEW BEST  ] - RandomForestClassification. Best score: 0.9579428571428571 \n",
      "\n",
      "[2024-12-02 09:45:57,220] - [   MODEL    ] - 3 out of 9. ExtraTreesClassification\n",
      "[2024-12-02 09:45:57,220] - [   START    ] - Working with ExtraTreesClassification\n",
      "[2024-12-02 09:45:57,221] - [   START    ] - Tuning ExtraTreesClassification\n",
      "[2024-12-02 09:45:58,280] - [   OPTUNA   ] - Trial 0. New best score 0.8929299234645433 with parameters {'n_estimators': 387, 'max_depth': 15, 'min_samples_split': 0.146398788362281, 'min_samples_leaf': 0.11973169683940732, 'max_features': 0.24041677639819287, 'criterion': 'log_loss', 'class_weight': 'balanced_subsample', 'oob_score': False, 'max_samples': 0.8341182143924175}\n",
      "[2024-12-02 09:45:59,009] - [   OPTUNA   ] - Trial 1. New best score 0.9165779799207202 with parameters {'n_estimators': 228, 'max_depth': 4, 'min_samples_split': 0.03668090197068676, 'min_samples_leaf': 0.06084844859190755, 'max_features': 0.5722807884690141, 'criterion': 'log_loss', 'class_weight': 'balanced_subsample', 'oob_score': False, 'max_samples': 0.7873242017790835}\n",
      "[2024-12-02 09:45:59,894] - [   OPTUNA   ] - Trial 2. New best score 0.9447154144088044 with parameters {'n_estimators': 215, 'max_depth': 9, 'min_samples_split': 0.1184829137724085, 'min_samples_leaf': 0.009290082543999545, 'max_features': 0.6467903667112945, 'criterion': 'log_loss', 'class_weight': 'balanced', 'oob_score': True, 'max_samples': 0.6873906962470353}\n",
      "[2024-12-02 09:46:01,194] - [   OPTUNA   ] - Trial 3. New best score 0.9538771322326511 with parameters {'n_estimators': 451, 'max_depth': 3, 'min_samples_split': 0.09903538202225404, 'min_samples_leaf': 0.006877704223043679, 'max_features': 0.9183883618709039, 'criterion': 'entropy', 'class_weight': 'balanced_subsample', 'oob_score': False, 'max_samples': 0.7773814951275034}\n",
      "[2024-12-02 09:46:13,748] - [   OPTUNA   ] - Trial 11. New best score 0.9603533250747468 with parameters {'n_estimators': 32, 'max_depth': 10, 'min_samples_split': 0.07121824466699872, 'min_samples_leaf': 0.004689401807340943, 'max_features': 0.7134393876140748, 'criterion': 'entropy', 'class_weight': 'balanced_subsample', 'oob_score': True, 'max_samples': 0.6405508745066752}\n",
      "[2024-12-02 09:46:14,101] - [   OPTUNA   ] - Trial 13. New best score 0.9648025913917643 with parameters {'n_estimators': 36, 'max_depth': 7, 'min_samples_split': 0.054273833433723856, 'min_samples_leaf': 0.0003893728893889538, 'max_features': 0.8460708041987088, 'criterion': 'entropy', 'class_weight': 'balanced_subsample', 'oob_score': False, 'max_samples': 0.36629114865941276}\n",
      "[2024-12-02 09:46:18,206] - [   OPTUNA   ] - Trial 18. New best score 0.9762012792291819 with parameters {'n_estimators': 736, 'max_depth': 8, 'min_samples_split': 0.020097467198428025, 'min_samples_leaf': 7.804930399116401e-05, 'max_features': 0.6982270461963013, 'criterion': 'entropy', 'class_weight': 'balanced_subsample', 'oob_score': False, 'max_samples': 0.5724800915555452}\n",
      "[2024-12-02 09:46:27,652] - [   OPTUNA   ] - 24 trials completed\n",
      "[2024-12-02 09:46:27,653] - [BEST PARAMS ] - {'n_estimators': 736, 'criterion': 'entropy', 'max_depth': 8, 'min_samples_split': 0.020097467198428025, 'min_samples_leaf': 7.804930399116401e-05, 'max_features': 0.6982270461963013, 'bootstrap': True, 'oob_score': False, 'max_samples': 0.5724800915555452, 'class_weight': 'balanced_subsample', 'n_jobs': 5, 'random_state': 42, 'verbose': 0, 'time_series': False}\n",
      "[2024-12-02 09:46:27,653] - [    END     ] - Tuning ExtraTreesClassification\n",
      "[2024-12-02 09:46:27,654] - [   START    ] - Fitting ExtraTreesClassification\n",
      "[2024-12-02 09:46:27,655] - [    FIT     ] - ExtraTreesClassification fold 0\n",
      "[2024-12-02 09:46:29,033] - [    FIT     ] - ExtraTreesClassification fold 1\n",
      "[2024-12-02 09:46:30,418] - [    FIT     ] - ExtraTreesClassification fold 2\n",
      "[2024-12-02 09:46:31,798] - [    FIT     ] - ExtraTreesClassification fold 3\n",
      "[2024-12-02 09:46:33,179] - [    FIT     ] - ExtraTreesClassification fold 4\n",
      "[2024-12-02 09:46:34,567] - [    END     ] - Fitting ExtraTreesClassification\n",
      "[2024-12-02 09:46:35,135] - [   SCORE    ] - Train: 0.9845125190735458\n",
      "[2024-12-02 09:46:35,137] - [   SCORE    ] - OOF: 0.9763146654726349\n",
      "[2024-12-02 09:46:35,645] - [   SCORE    ] - Test: 0.9762285714285714\n",
      "[2024-12-02 09:46:35,645] - [   SCORE    ] - Overfit: 0.84 %\n",
      "[2024-12-02 09:46:35,646] - [    END     ] - Working with ExtraTreesClassification\n",
      "[2024-12-02 09:46:35,646] - [  NEW BEST  ] - ExtraTreesClassification. Best score: 0.9762285714285714 \n",
      "\n",
      "[2024-12-02 09:46:35,647] - [   MODEL    ] - 4 out of 9. CatBoostClassification\n",
      "[2024-12-02 09:46:35,647] - [   START    ] - Working with CatBoostClassification\n",
      "[2024-12-02 09:46:35,647] - [   START    ] - Tuning CatBoostClassification\n",
      "[2024-12-02 09:46:41,860] - [   OPTUNA   ] - Trial 0. New best score 0.9805426784066038 with parameters {'boosting_type': 'Plain', 'depth': 6, 'l2_leaf_reg': 190.14286128198324, 'bootstrap_type': 'Bernoulli', 'grow_policy': 'SymmetricTree', 'min_data_in_leaf': 222, 'rsm': 0.7606690070459252, 'subsample': 0.8248435466776274, 'model_size_reg': 4.116898859160489, 'auto_class_weights': None, 'iterations': 873}\n"
     ]
    }
   ],
   "source": [
    "model.fit(\n",
    "    X_train, y_train,\n",
    "    X_test, y_test,\n",
    "    save_test=False,\n",
    "    save_oof=False,\n",
    "    save_models=False,\n",
    "    categorical_features=cat_features\n",
    ")"
   ]
  },
  {
   "cell_type": "code",
   "execution_count": null,
   "id": "9f55b811-8215-4774-b9f9-86c95a1e3ab9",
   "metadata": {},
   "outputs": [],
   "source": []
  }
 ],
 "metadata": {
  "kernelspec": {
   "display_name": "Python 3 (ipykernel)",
   "language": "python",
   "name": "python3"
  },
  "language_info": {
   "codemirror_mode": {
    "name": "ipython",
    "version": 3
   },
   "file_extension": ".py",
   "mimetype": "text/x-python",
   "name": "python",
   "nbconvert_exporter": "python",
   "pygments_lexer": "ipython3",
   "version": "3.9.2"
  }
 },
 "nbformat": 4,
 "nbformat_minor": 5
}
