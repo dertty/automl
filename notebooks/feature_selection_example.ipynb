{
 "cells": [
  {
   "cell_type": "markdown",
   "metadata": {},
   "source": [
    "## Import libraries"
   ]
  },
  {
   "cell_type": "code",
   "execution_count": null,
   "metadata": {},
   "outputs": [],
   "source": [
    "import os\n",
    "os.chdir('/workspaces/automl/src')"
   ]
  },
  {
   "cell_type": "code",
   "execution_count": null,
   "metadata": {},
   "outputs": [],
   "source": [
    "%reload_ext autoreload\n",
    "%autoreload 2"
   ]
  },
  {
   "cell_type": "code",
   "execution_count": null,
   "metadata": {},
   "outputs": [],
   "source": [
    "import pandas as pd\n",
    "from sklearn.datasets import fetch_california_housing\n"
   ]
  },
  {
   "cell_type": "markdown",
   "metadata": {},
   "source": [
    "## Preprocessing"
   ]
  },
  {
   "cell_type": "code",
   "execution_count": null,
   "metadata": {},
   "outputs": [],
   "source": [
    "from automl.feature_selection.pipe import PreprocessingPipeline, ValTestsPipeline\n",
    "from automl.utils.utils import split_data"
   ]
  },
  {
   "cell_type": "code",
   "execution_count": null,
   "metadata": {},
   "outputs": [],
   "source": [
    "target_col = 'MedHouseVal'\n",
    "test_size = 0.2\n",
    "random_state = 42\n",
    "val_split_col = 'is_test_for_val'"
   ]
  },
  {
   "cell_type": "code",
   "execution_count": null,
   "metadata": {},
   "outputs": [],
   "source": [
    "california_data = fetch_california_housing(as_frame=True)\n",
    "df = pd.concat([california_data.data, pd.DataFrame(california_data.target)], axis=1)"
   ]
  },
  {
   "cell_type": "code",
   "execution_count": null,
   "metadata": {},
   "outputs": [],
   "source": [
    "df.head()"
   ]
  },
  {
   "cell_type": "code",
   "execution_count": null,
   "metadata": {},
   "outputs": [],
   "source": [
    "train, test = split_data(df, target_col, test_size=test_size, random_state=random_state)\n",
    "X_train, y_train = train.drop(target_col, axis=1), train[target_col]\n",
    "X_test, y_test = test.drop(target_col, axis=1), test[target_col]"
   ]
  },
  {
   "cell_type": "code",
   "execution_count": null,
   "metadata": {},
   "outputs": [],
   "source": [
    "preprocessing_pipe = PreprocessingPipeline()"
   ]
  },
  {
   "cell_type": "code",
   "execution_count": null,
   "metadata": {},
   "outputs": [],
   "source": [
    "preprocessing_pipe.fit(X_train, y_train)\n",
    "X_train_prep = preprocessing_pipe.transform(X_train)\n",
    "X_train_prep.columns = [col.lstrip('remainder__') for col in X_train_prep.columns]\n",
    "X_test_prep = preprocessing_pipe.transform(X_test)\n",
    "X_test_prep.columns = [col.lstrip('remainder__') for col in X_test_prep.columns]\n",
    "print(X_train_prep.shape, X_test_prep.shape)"
   ]
  },
  {
   "cell_type": "code",
   "execution_count": null,
   "metadata": {},
   "outputs": [],
   "source": [
    "val_tests_pipe = ValTestsPipeline()\n",
    "X_train_prep[val_split_col] = 0\n",
    "X_test_prep[val_split_col] = 1\n",
    "X_for_val_tests = pd.concat([X_train_prep, X_test_prep], axis=0)"
   ]
  },
  {
   "cell_type": "code",
   "execution_count": null,
   "metadata": {},
   "outputs": [],
   "source": [
    "val_tests_pipe.fit(X_for_val_tests)\n",
    "\n",
    "X_train_after_val = val_tests_pipe.transform(X_train_prep).drop(val_split_col, axis=1)\n",
    "X_test_after_val = val_tests_pipe.transform(X_test_prep).drop(val_split_col, axis=1)\n",
    "print(X_train_after_val.shape, X_test_after_val.shape)"
   ]
  },
  {
   "cell_type": "code",
   "execution_count": null,
   "metadata": {},
   "outputs": [],
   "source": [
    "train_before_fs = X_train_after_val.join(y_train)\n",
    "test_before_fs = X_test_after_val.join(y_test)"
   ]
  },
  {
   "cell_type": "markdown",
   "metadata": {},
   "source": [
    "## Feature Selection"
   ]
  },
  {
   "cell_type": "code",
   "execution_count": null,
   "metadata": {},
   "outputs": [],
   "source": [
    "from automl.feature_selection.transformers import FeatureSelectionTransformer"
   ]
  },
  {
   "cell_type": "code",
   "execution_count": null,
   "metadata": {},
   "outputs": [],
   "source": [
    "fst_rfa = FeatureSelectionTransformer(task_type='reg', target_colname=target_col, \n",
    "                                      metric_name='mae', metric_direction='minimize', timeout=120, random_state=42,\n",
    "                                      strategy='RFA')"
   ]
  },
  {
   "cell_type": "code",
   "execution_count": null,
   "metadata": {},
   "outputs": [],
   "source": [
    "fst_rfa.fit(train_before_fs, test_before_fs)"
   ]
  },
  {
   "cell_type": "code",
   "execution_count": null,
   "metadata": {},
   "outputs": [],
   "source": [
    "fst_rfe = FeatureSelectionTransformer(task_type='reg', target_colname=target_col, \n",
    "                                      metric_name='mae', metric_direction='minimize', timeout=120, random_state=42,\n",
    "                                      model='lama', strategy='RFE')"
   ]
  },
  {
   "cell_type": "code",
   "execution_count": null,
   "metadata": {},
   "outputs": [],
   "source": [
    "fst_rfe.fit(train_before_fs, test_before_fs)"
   ]
  },
  {
   "cell_type": "code",
   "execution_count": null,
   "metadata": {},
   "outputs": [],
   "source": [
    "fst_pfi = FeatureSelectionTransformer(task_type='reg', target_colname=target_col, \n",
    "                                      metric_name='mae', metric_direction='minimize', timeout=120, random_state=42,\n",
    "                                      model='lama', strategy='PFI')"
   ]
  },
  {
   "cell_type": "code",
   "execution_count": null,
   "metadata": {},
   "outputs": [],
   "source": [
    "fst_pfi.fit(train_before_fs, test_before_fs)"
   ]
  },
  {
   "cell_type": "code",
   "execution_count": null,
   "metadata": {},
   "outputs": [],
   "source": [
    "train_final = fst_rfa.transform(train_before_fs)\n",
    "test_final = fst_rfa.transform(test_before_fs)"
   ]
  },
  {
   "cell_type": "code",
   "execution_count": null,
   "metadata": {},
   "outputs": [],
   "source": [
    "model = fst_rfa.train_lama_model(train_final, test_final)"
   ]
  },
  {
   "cell_type": "code",
   "execution_count": null,
   "metadata": {},
   "outputs": [],
   "source": [
    "metric_train, metric_test = fst_rfa.calc_metric(train_final, test_final)"
   ]
  },
  {
   "cell_type": "code",
   "execution_count": null,
   "metadata": {},
   "outputs": [],
   "source": [
    "print(f'Метрика train: {metric_train}\\n Метрика test: {metric_test}')"
   ]
  }
 ],
 "metadata": {
  "kernelspec": {
   "display_name": ".venv",
   "language": "python",
   "name": "python3"
  },
  "language_info": {
   "codemirror_mode": {
    "name": "ipython",
    "version": 3
   },
   "file_extension": ".py",
   "mimetype": "text/x-python",
   "name": "python",
   "nbconvert_exporter": "python",
   "pygments_lexer": "ipython3",
   "version": "3.11.4"
  }
 },
 "nbformat": 4,
 "nbformat_minor": 2
}
